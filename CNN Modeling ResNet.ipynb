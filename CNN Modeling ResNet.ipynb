{
 "cells": [
  {
   "cell_type": "code",
   "execution_count": 15,
   "id": "93c0c7b9",
   "metadata": {},
   "outputs": [],
   "source": [
    "from PIL import Image, ImageOps\n",
    "import numpy as np\n",
    "import pandas as pd\n",
    "from matplotlib import pyplot as plt\n",
    "import seaborn as sns\n",
    "import os, shutil\n",
    "import time\n",
    "import scipy\n",
    "from scipy import ndimage\n",
    "from tensorflow.keras.preprocessing.image import ImageDataGenerator, array_to_img, img_to_array, load_img\n",
    "import cv2\n",
    "from keras import models\n",
    "from keras import layers\n",
    "from sklearn.utils import class_weight"
   ]
  },
  {
   "cell_type": "code",
   "execution_count": 16,
   "id": "89fe4df5",
   "metadata": {},
   "outputs": [],
   "source": [
    "import tensorflow_addons as tfa\n",
    "\n",
    "\n"
   ]
  },
  {
   "cell_type": "markdown",
   "id": "cf7dd375",
   "metadata": {},
   "source": [
    "# Lets Try a Popular Neural Network: ResNet"
   ]
  },
  {
   "cell_type": "code",
   "execution_count": 17,
   "id": "70225cd1",
   "metadata": {},
   "outputs": [],
   "source": [
    "# Create a data generator\n",
    "datagen2 = ImageDataGenerator(\n",
    "    rescale=1./255, # normalize pixel values\n",
    "    rotation_range=45, # randomly rotate images in the range\n",
    "    zoom_range=0.35, # randomly zoom image \n",
    "    width_shift_range=0.35, # randomly shift images horizontally\n",
    "    height_shift_range=0.35, # randomly shift images vertically \n",
    "    horizontal_flip=True,\n",
    "    vertical_flip=True) # randomly flip images"
   ]
  },
  {
   "cell_type": "code",
   "execution_count": 32,
   "id": "57a15b4f",
   "metadata": {
    "scrolled": true
   },
   "outputs": [
    {
     "name": "stdout",
     "output_type": "stream",
     "text": [
      "Found 4098 images belonging to 2 classes.\n",
      "Found 879 images belonging to 2 classes.\n",
      "Found 879 images belonging to 2 classes.\n"
     ]
    }
   ],
   "source": [
    "# Use flow_from_directory to read images from folders\n",
    "train_generator2 = datagen2.flow_from_directory(\n",
    "        'CellData/chest_xray/train', # point to the parent directory\n",
    "        target_size=(299, 299), # resize images to 299x299\n",
    "        batch_size=32,\n",
    "        class_mode='binary') # binary for two classes\n",
    "\n",
    "# Similarly create validation and test generators\n",
    "val_generator2 = datagen2.flow_from_directory(\n",
    "        'CellData/chest_xray/val',\n",
    "        target_size=(299, 299),\n",
    "        batch_size=32,\n",
    "        class_mode='binary')\n",
    "\n",
    "test_generator2 = datagen2.flow_from_directory(\n",
    "        'CellData/chest_xray/test',\n",
    "        target_size=(299, 299),\n",
    "        batch_size=32,\n",
    "        class_mode='binary',\n",
    "        shuffle=False)\n"
   ]
  },
  {
   "cell_type": "code",
   "execution_count": 22,
   "id": "3019617e",
   "metadata": {},
   "outputs": [
    {
     "name": "stdout",
     "output_type": "stream",
     "text": [
      "Downloading data from https://storage.googleapis.com/tensorflow/keras-applications/resnet/resnet50_weights_tf_dim_ordering_tf_kernels_notop.h5\n",
      "94765736/94765736 [==============================] - 6s 0us/step\n"
     ]
    }
   ],
   "source": [
    "from tensorflow.keras.applications import ResNet50\n",
    "from tensorflow.keras.models import Model\n",
    "\n",
    "base_model = ResNet50(weights='imagenet', include_top=False, input_shape=(299, 299, 3))\n",
    "\n",
    "# Define new top layers\n",
    "x = base_model.output\n",
    "x = layers.GlobalAveragePooling2D()(x)  # Adding a GlobalAveragePooling2D layer to reduce the feature maps\n",
    "x = layers.Dense(512, activation='relu')(x)\n",
    "x = layers.Dense(1, activation='sigmoid')(x)\n",
    "\n",
    "# Define the new model\n",
    "model2 = Model(inputs=base_model.input, outputs=x)\n",
    "\n",
    "# Compile the model\n",
    "model2.compile(loss='binary_crossentropy', optimizer='adam', metrics=['acc'])\n"
   ]
  },
  {
   "cell_type": "code",
   "execution_count": 23,
   "id": "07502424",
   "metadata": {},
   "outputs": [
    {
     "name": "stdout",
     "output_type": "stream",
     "text": [
      "Counter({1: 2991, 0: 1107})\n",
      "2991.0\n",
      "{0: 2.7018970189701896, 1: 1.0}\n"
     ]
    }
   ],
   "source": [
    "from collections import Counter\n",
    "\n",
    "counter = Counter(train_generator2.classes)                          \n",
    "max_val = float(max(counter.values()))       \n",
    "class_weights = {class_id : max_val/num_images for class_id, num_images in counter.items()}                     \n",
    "\n",
    "print(counter)\n",
    "print(max_val)\n",
    "print(class_weights)"
   ]
  },
  {
   "cell_type": "code",
   "execution_count": 25,
   "id": "f92810f6",
   "metadata": {
    "scrolled": false
   },
   "outputs": [
    {
     "name": "stdout",
     "output_type": "stream",
     "text": [
      "Epoch 1/30\n",
      "129/129 [==============================] - ETA: 0s - loss: 0.5610 - acc: 0.8402"
     ]
    },
    {
     "name": "stderr",
     "output_type": "stream",
     "text": [
      "2023-07-13 13:36:16.576784: I tensorflow/core/grappler/optimizers/custom_graph_optimizer_registry.cc:113] Plugin optimizer for device_type GPU is enabled.\n"
     ]
    },
    {
     "name": "stdout",
     "output_type": "stream",
     "text": [
      "129/129 [==============================] - 108s 823ms/step - loss: 0.5610 - acc: 0.8402 - val_loss: 8.2341 - val_acc: 0.7301\n",
      "Epoch 2/30\n",
      "129/129 [==============================] - 107s 821ms/step - loss: 0.4893 - acc: 0.8504 - val_loss: 3.1578 - val_acc: 0.7301\n",
      "Epoch 3/30\n",
      "129/129 [==============================] - 112s 860ms/step - loss: 0.4683 - acc: 0.8592 - val_loss: 0.6020 - val_acc: 0.7301\n",
      "Epoch 4/30\n",
      "129/129 [==============================] - 106s 820ms/step - loss: 0.3978 - acc: 0.8821 - val_loss: 2.7443 - val_acc: 0.7301\n",
      "Epoch 5/30\n",
      "129/129 [==============================] - 109s 839ms/step - loss: 0.3842 - acc: 0.8838 - val_loss: 1.7629 - val_acc: 0.7301\n",
      "Epoch 6/30\n",
      "129/129 [==============================] - 107s 828ms/step - loss: 0.3846 - acc: 0.8812 - val_loss: 0.4544 - val_acc: 0.8018\n",
      "Epoch 7/30\n",
      "129/129 [==============================] - 110s 850ms/step - loss: 0.3788 - acc: 0.8846 - val_loss: 0.8524 - val_acc: 0.7494\n",
      "Epoch 8/30\n",
      "129/129 [==============================] - 109s 836ms/step - loss: 0.3427 - acc: 0.8985 - val_loss: 0.6454 - val_acc: 0.7483\n",
      "Epoch 9/30\n",
      "129/129 [==============================] - 109s 837ms/step - loss: 0.4401 - acc: 0.8704 - val_loss: 0.6503 - val_acc: 0.7358\n",
      "Epoch 10/30\n",
      "129/129 [==============================] - 114s 878ms/step - loss: 0.3867 - acc: 0.8863 - val_loss: 0.6070 - val_acc: 0.7301\n",
      "Epoch 11/30\n",
      "129/129 [==============================] - 109s 832ms/step - loss: 0.3643 - acc: 0.8914 - val_loss: 0.8826 - val_acc: 0.7323\n",
      "Epoch 12/30\n",
      "129/129 [==============================] - 108s 829ms/step - loss: 0.3265 - acc: 0.9021 - val_loss: 0.8739 - val_acc: 0.7164\n",
      "Epoch 13/30\n",
      "129/129 [==============================] - 113s 868ms/step - loss: 0.3021 - acc: 0.9080 - val_loss: 0.6245 - val_acc: 0.7825\n",
      "Epoch 14/30\n",
      "129/129 [==============================] - 104s 804ms/step - loss: 0.2846 - acc: 0.9200 - val_loss: 0.3623 - val_acc: 0.8383\n",
      "Epoch 15/30\n",
      "129/129 [==============================] - 104s 802ms/step - loss: 0.3045 - acc: 0.9109 - val_loss: 0.2629 - val_acc: 0.8986\n",
      "Epoch 16/30\n",
      "129/129 [==============================] - 106s 821ms/step - loss: 0.2950 - acc: 0.9161 - val_loss: 0.9981 - val_acc: 0.7301\n",
      "Epoch 17/30\n",
      "129/129 [==============================] - 106s 811ms/step - loss: 0.2816 - acc: 0.9173 - val_loss: 0.5237 - val_acc: 0.7665\n",
      "Epoch 18/30\n",
      "129/129 [==============================] - 107s 821ms/step - loss: 0.2869 - acc: 0.9200 - val_loss: 0.2122 - val_acc: 0.9112\n",
      "Epoch 19/30\n",
      "129/129 [==============================] - 108s 838ms/step - loss: 0.2727 - acc: 0.9278 - val_loss: 0.6352 - val_acc: 0.7460\n",
      "Epoch 20/30\n",
      "129/129 [==============================] - 106s 822ms/step - loss: 0.2874 - acc: 0.9143 - val_loss: 0.4099 - val_acc: 0.8132\n",
      "Epoch 21/30\n",
      "129/129 [==============================] - 107s 828ms/step - loss: 0.2515 - acc: 0.9246 - val_loss: 0.6157 - val_acc: 0.7585\n",
      "Epoch 22/30\n",
      "129/129 [==============================] - 111s 847ms/step - loss: 0.2574 - acc: 0.9307 - val_loss: 0.3740 - val_acc: 0.8474\n",
      "Epoch 23/30\n",
      "129/129 [==============================] - 108s 827ms/step - loss: 0.2482 - acc: 0.9283 - val_loss: 1.6941 - val_acc: 0.4009\n",
      "Epoch 24/30\n",
      "129/129 [==============================] - 106s 820ms/step - loss: 0.2564 - acc: 0.9285 - val_loss: 0.4216 - val_acc: 0.8075\n",
      "Epoch 25/30\n",
      "129/129 [==============================] - 106s 818ms/step - loss: 0.2587 - acc: 0.9287 - val_loss: 0.9497 - val_acc: 0.7483\n",
      "Epoch 26/30\n",
      "129/129 [==============================] - 107s 824ms/step - loss: 0.2770 - acc: 0.9236 - val_loss: 0.2936 - val_acc: 0.8588\n",
      "Epoch 27/30\n",
      "129/129 [==============================] - 110s 852ms/step - loss: 0.2773 - acc: 0.9239 - val_loss: 0.6131 - val_acc: 0.6868\n",
      "Epoch 28/30\n",
      "129/129 [==============================] - 107s 813ms/step - loss: 0.2699 - acc: 0.9239 - val_loss: 0.8950 - val_acc: 0.4579\n",
      "Epoch 29/30\n",
      "129/129 [==============================] - 105s 800ms/step - loss: 0.2943 - acc: 0.9114 - val_loss: 0.1893 - val_acc: 0.9226\n",
      "Epoch 30/30\n",
      "129/129 [==============================] - 107s 826ms/step - loss: 0.2508 - acc: 0.9309 - val_loss: 0.2714 - val_acc: 0.8929\n"
     ]
    }
   ],
   "source": [
    "epochs = 30\n",
    "\n",
    "steps_per_epoch2 = np.ceil(train_generator2.samples / train_generator2.batch_size)\n",
    "validation_steps2 = np.ceil(val_generator2.samples / val_generator2.batch_size)\n",
    "\n",
    "history = model2.fit(\n",
    "    train_generator2,\n",
    "    steps_per_epoch=int(steps_per_epoch2),\n",
    "    epochs=epochs,\n",
    "    validation_data=val_generator2,\n",
    "    validation_steps=int(validation_steps2),\n",
    "    class_weight=class_weights)\n",
    "\n"
   ]
  },
  {
   "cell_type": "code",
   "execution_count": null,
   "id": "93ee8d87",
   "metadata": {},
   "outputs": [],
   "source": []
  },
  {
   "cell_type": "code",
   "execution_count": 26,
   "id": "57302259",
   "metadata": {},
   "outputs": [
    {
     "name": "stdout",
     "output_type": "stream",
     "text": [
      "129/129 [==============================] - 61s 472ms/step - loss: 0.2641 - acc: 0.9007\n",
      "28/28 [==============================] - 13s 457ms/step - loss: 0.2746 - acc: 0.9055\n",
      "Training set performance: [0.2640553414821625, 0.9006832838058472]\n",
      "Validation set performance: [0.2745646834373474, 0.9054670333862305]\n"
     ]
    }
   ],
   "source": [
    "results_train = model2.evaluate(train_generator2)\n",
    "results_test = model2.evaluate(val_generator2)\n",
    "print('Training set performance:', results_train)\n",
    "print('Validation set performance:', results_test)"
   ]
  },
  {
   "cell_type": "code",
   "execution_count": 27,
   "id": "2dbf647e",
   "metadata": {},
   "outputs": [],
   "source": [
    "model2.save('modelResNet.h5')  # creates a HDF5 file 'my_model.h5'"
   ]
  },
  {
   "cell_type": "code",
   "execution_count": 33,
   "id": "05d5b6a1",
   "metadata": {},
   "outputs": [
    {
     "name": "stdout",
     "output_type": "stream",
     "text": [
      "28/28 [==============================] - 13s 433ms/step\n"
     ]
    }
   ],
   "source": [
    "y_pred = model2.predict(test_generator2)"
   ]
  },
  {
   "cell_type": "code",
   "execution_count": 34,
   "id": "1dcd7482",
   "metadata": {},
   "outputs": [],
   "source": [
    "y_pred = (y_pred > 0.5).astype(int)\n",
    "y_true = test_generator2.classes"
   ]
  },
  {
   "cell_type": "code",
   "execution_count": 35,
   "id": "13dc2b07",
   "metadata": {},
   "outputs": [
    {
     "data": {
      "image/png": "[encoded data removed]",
      "text/plain": [
       "<Figure size 600x600 with 2 Axes>"
      ]
     },
     "metadata": {},
     "output_type": "display_data"
    }
   ],
   "source": [
    "from sklearn.metrics import confusion_matrix\n",
    "cm = confusion_matrix(y_true, y_pred)\n",
    "\n",
    "# results are not as good as my model\n",
    "# here we have a lot of false negatives, which is a lot worse than a false positive in terms of a pneumonia diagnosis\n",
    "\n",
    "plt.figure(figsize=(6, 6))\n",
    "sns.heatmap(cm, annot=True, fmt='d', cmap='Blues')\n",
    "plt.title('Confusion matrix')\n",
    "plt.xlabel('Predicted label')\n",
    "plt.ylabel('True label')\n",
    "plt.show()\n"
   ]
  },
  {
   "cell_type": "code",
   "execution_count": 36,
   "id": "dd1e878f",
   "metadata": {},
   "outputs": [
    {
     "name": "stdout",
     "output_type": "stream",
     "text": [
      "              precision    recall  f1-score   support\n",
      "\n",
      "      NORMAL       0.75      0.96      0.84       238\n",
      "   PNEUMONIA       0.98      0.88      0.93       641\n",
      "\n",
      "    accuracy                           0.90       879\n",
      "   macro avg       0.87      0.92      0.89       879\n",
      "weighted avg       0.92      0.90      0.91       879\n",
      "\n"
     ]
    }
   ],
   "source": [
    "from sklearn.metrics import classification_report\n",
    "\n",
    "\n",
    "\n",
    "print(classification_report(y_true, y_pred, target_names=test_generator2.class_indices.keys()))\n"
   ]
  },
  {
   "cell_type": "code",
   "execution_count": 38,
   "id": "e612fb98",
   "metadata": {},
   "outputs": [
    {
     "name": "stdout",
     "output_type": "stream",
     "text": [
      "28/28 [==============================] - 13s 429ms/step\n",
      "AUC:  0.9742261959385939\n"
     ]
    },
    {
     "data": {
      "image/png": "[encoded data removed]",
      "text/plain": [
       "<Figure size 1000x800 with 1 Axes>"
      ]
     },
     "metadata": {},
     "output_type": "display_data"
    }
   ],
   "source": [
    "#ROCAUC not as good as my best model\n",
    "\n",
    "from sklearn.metrics import roc_curve, roc_auc_score\n",
    "import matplotlib.pyplot as plt\n",
    "\n",
    "# Assuming val_generator2 is your validation generator\n",
    "test_generator2.reset()\n",
    "\n",
    "# Generate predictions\n",
    "y_pred_probs = model2.predict(test_generator2)\n",
    "\n",
    "# Get true labels\n",
    "y_true = test_generator2.classes\n",
    "\n",
    "# Compute ROC curve\n",
    "fpr, tpr, thresholds = roc_curve(y_true, y_pred_probs)\n",
    "\n",
    "# Compute AUC\n",
    "auc = roc_auc_score(y_true, y_pred_probs)\n",
    "print(\"AUC: \", auc)\n",
    "# Plot ROC curve\n",
    "plt.figure(figsize=(10, 8))\n",
    "plt.plot(fpr, tpr, color='darkorange', label='ROC curve (area = %0.2f)' % auc)\n",
    "plt.plot([0, 1], [0, 1], color='navy', linestyle='--')\n",
    "plt.xlim([0.0, 1.0])\n",
    "plt.ylim([0.0, 1.05])\n",
    "plt.xlabel('False Positive Rate')\n",
    "plt.ylabel('True Positive Rate')\n",
    "plt.title('Receiver Operating Characteristic Curve')\n",
    "plt.legend(loc=\"lower right\")\n",
    "plt.show()\n"
   ]
  },
  {
   "cell_type": "code",
   "execution_count": null,
   "id": "a52d01d5",
   "metadata": {},
   "outputs": [],
   "source": []
  }
 ],
 "metadata": {
  "kernelspec": {
   "display_name": "tooters",
   "language": "python",
   "name": "tooters"
  },
  "language_info": {
   "codemirror_mode": {
    "name": "ipython",
    "version": 3
   },
   "file_extension": ".py",
   "mimetype": "text/x-python",
   "name": "python",
   "nbconvert_exporter": "python",
   "pygments_lexer": "ipython3",
   "version": "3.8.13"
  }
 },
 "nbformat": 4,
 "nbformat_minor": 5
}
