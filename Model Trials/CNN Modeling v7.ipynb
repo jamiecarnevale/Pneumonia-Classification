{
 "cells": [
  {
   "cell_type": "code",
   "execution_count": 1,
   "id": "93c0c7b9",
   "metadata": {},
   "outputs": [],
   "source": [
    "from PIL import Image, ImageOps\n",
    "import numpy as np\n",
    "import pandas as pd\n",
    "from matplotlib import pyplot as plt\n",
    "import seaborn as sns\n",
    "import os, shutil\n",
    "import time\n",
    "import scipy\n",
    "from scipy import ndimage\n",
    "from tensorflow.keras.preprocessing.image import ImageDataGenerator, array_to_img, img_to_array, load_img\n",
    "import cv2\n",
    "from keras import models\n",
    "from keras import layers\n",
    "from sklearn.utils import class_weight"
   ]
  },
  {
   "cell_type": "markdown",
   "id": "cf7dd375",
   "metadata": {},
   "source": [
    "# Now lets try and to make the results better"
   ]
  },
  {
   "cell_type": "code",
   "execution_count": 2,
   "id": "70225cd1",
   "metadata": {},
   "outputs": [],
   "source": [
    "# Create a data generator\n",
    "datagen2 = ImageDataGenerator(\n",
    "    rescale=1./255, # normalize pixel values\n",
    "    rotation_range=20, # randomly rotate images in the range\n",
    "    zoom_range=0.2, # randomly zoom image \n",
    "    width_shift_range=0.2, # randomly shift images horizontally\n",
    "    height_shift_range=0.2, # randomly shift images vertically \n",
    "    horizontal_flip=True) # randomly flip images"
   ]
  },
  {
   "cell_type": "code",
   "execution_count": 3,
   "id": "57a15b4f",
   "metadata": {
    "scrolled": true
   },
   "outputs": [
    {
     "name": "stdout",
     "output_type": "stream",
     "text": [
      "Found 4098 images belonging to 2 classes.\n",
      "Found 879 images belonging to 2 classes.\n",
      "Found 879 images belonging to 2 classes.\n"
     ]
    }
   ],
   "source": [
    "# Use flow_from_directory to read images from folders\n",
    "train_generator2 = datagen2.flow_from_directory(\n",
    "        'CellData/chest_xray/train', # point to the parent directory\n",
    "        target_size=(299, 299), # resize images to 299x299\n",
    "        batch_size=32,\n",
    "        class_mode='binary') # binary for two classes\n",
    "\n",
    "# Similarly create validation and test generators\n",
    "val_generator2 = datagen2.flow_from_directory(\n",
    "        'CellData/chest_xray/val',\n",
    "        target_size=(299, 299),\n",
    "        batch_size=32,\n",
    "        class_mode='binary')\n",
    "\n",
    "test_generator2 = datagen2.flow_from_directory(\n",
    "        'CellData/chest_xray/test',\n",
    "        target_size=(299, 299),\n",
    "        batch_size=32,\n",
    "        class_mode='binary')\n"
   ]
  },
  {
   "cell_type": "code",
   "execution_count": 5,
   "id": "3019617e",
   "metadata": {},
   "outputs": [],
   "source": [
    "from tensorflow.keras import layers, models\n",
    "from tensorflow.keras.layers import Dropout, BatchNormalization\n",
    "\n",
    "model2 = models.Sequential()\n",
    "\n",
    "model2.add(layers.Conv2D(64, (5, 5), padding='same', activation='relu',\n",
    "                        input_shape=(299 , 299,  3)))\n",
    "model2.add(BatchNormalization())\n",
    "model2.add(layers.MaxPooling2D((2, 2)))\n",
    "\n",
    "model2.add(layers.Conv2D(64, (4, 4), padding='same', activation='relu'))\n",
    "model2.add(BatchNormalization())\n",
    "model2.add(layers.MaxPooling2D((2, 2)))\n",
    "model2.add(Dropout(0.25)) # Added dropout\n",
    "\n",
    "model2.add(layers.Conv2D(128, (3, 3), padding='same', activation='relu'))\n",
    "model2.add(BatchNormalization())\n",
    "model2.add(layers.MaxPooling2D((2, 2)))\n",
    "\n",
    "model2.add(layers.Flatten())\n",
    "model2.add(layers.Dense(128, activation='relu'))\n",
    "model2.add(BatchNormalization())\n",
    "model2.add(Dropout(0.5)) # Added dropout\n",
    "model2.add(layers.Dense(256, activation='relu'))\n",
    "model2.add(BatchNormalization())\n",
    "model2.add(layers.Dense(1, activation='sigmoid'))\n",
    "\n",
    "model2.compile(loss='binary_crossentropy',\n",
    "              optimizer=\"adam\",\n",
    "              metrics=['acc'])\n"
   ]
  },
  {
   "cell_type": "code",
   "execution_count": 6,
   "id": "07502424",
   "metadata": {},
   "outputs": [
    {
     "name": "stdout",
     "output_type": "stream",
     "text": [
      "Counter({1: 2991, 0: 1107})\n",
      "2991.0\n",
      "{0: 2.7018970189701896, 1: 1.0}\n"
     ]
    }
   ],
   "source": [
    "from collections import Counter\n",
    "import numpy as np\n",
    "\n",
    "# Get class distribution\n",
    "counter = Counter(train_generator2.classes)                          \n",
    "max_val = float(max(counter.values()))       \n",
    "class_weights = {class_id : max_val/num_images for class_id, num_images in counter.items()}                     \n",
    "\n",
    "print(counter)\n",
    "print(max_val)\n",
    "print(class_weights)"
   ]
  },
  {
   "cell_type": "code",
   "execution_count": 7,
   "id": "f92810f6",
   "metadata": {
    "scrolled": false
   },
   "outputs": [
    {
     "name": "stdout",
     "output_type": "stream",
     "text": [
      "Epoch 1/100\n"
     ]
    },
    {
     "name": "stderr",
     "output_type": "stream",
     "text": [
      "2023-07-13 00:04:21.673100: W tensorflow/core/platform/profile_utils/cpu_utils.cc:128] Failed to get CPU frequency: 0 Hz\n",
      "2023-07-13 00:04:22.094281: I tensorflow/core/grappler/optimizers/custom_graph_optimizer_registry.cc:113] Plugin optimizer for device_type GPU is enabled.\n"
     ]
    },
    {
     "name": "stdout",
     "output_type": "stream",
     "text": [
      "129/129 [==============================] - ETA: 0s - loss: 0.6953 - acc: 0.7631"
     ]
    },
    {
     "name": "stderr",
     "output_type": "stream",
     "text": [
      "2023-07-13 00:05:24.814866: I tensorflow/core/grappler/optimizers/custom_graph_optimizer_registry.cc:113] Plugin optimizer for device_type GPU is enabled.\n"
     ]
    },
    {
     "name": "stdout",
     "output_type": "stream",
     "text": [
      "129/129 [==============================] - 76s 545ms/step - loss: 0.6953 - acc: 0.7631 - val_loss: 2.4025 - val_acc: 0.7292\n",
      "Epoch 2/100\n",
      "129/129 [==============================] - 75s 573ms/step - loss: 0.5150 - acc: 0.8490 - val_loss: 0.5926 - val_acc: 0.7338\n",
      "Epoch 3/100\n",
      "129/129 [==============================] - 71s 542ms/step - loss: 0.4570 - acc: 0.8724 - val_loss: 1.3074 - val_acc: 0.7292\n",
      "Epoch 4/100\n",
      "129/129 [==============================] - 71s 543ms/step - loss: 0.4263 - acc: 0.8736 - val_loss: 3.3235 - val_acc: 0.7292\n",
      "Epoch 5/100\n",
      "129/129 [==============================] - 72s 553ms/step - loss: 0.4327 - acc: 0.8758 - val_loss: 2.8407 - val_acc: 0.7133\n",
      "Epoch 6/100\n",
      "129/129 [==============================] - 70s 541ms/step - loss: 0.4127 - acc: 0.8770 - val_loss: 3.4783 - val_acc: 0.2912\n",
      "Epoch 7/100\n",
      "129/129 [==============================] - 71s 547ms/step - loss: 0.4285 - acc: 0.8758 - val_loss: 0.4857 - val_acc: 0.7861\n",
      "Epoch 8/100\n",
      "129/129 [==============================] - 74s 571ms/step - loss: 0.4127 - acc: 0.8795 - val_loss: 0.6204 - val_acc: 0.7747\n",
      "Epoch 9/100\n",
      "129/129 [==============================] - 72s 558ms/step - loss: 0.4066 - acc: 0.8826 - val_loss: 1.9295 - val_acc: 0.7292\n",
      "Epoch 10/100\n",
      "129/129 [==============================] - 71s 547ms/step - loss: 0.3635 - acc: 0.8943 - val_loss: 1.9021 - val_acc: 0.7292\n",
      "Epoch 11/100\n",
      "129/129 [==============================] - 71s 542ms/step - loss: 0.3733 - acc: 0.8914 - val_loss: 0.4379 - val_acc: 0.8100\n",
      "Epoch 12/100\n",
      "129/129 [==============================] - 71s 544ms/step - loss: 0.3422 - acc: 0.9034 - val_loss: 0.4121 - val_acc: 0.8180\n",
      "Epoch 13/100\n",
      "129/129 [==============================] - 71s 549ms/step - loss: 0.3513 - acc: 0.8973 - val_loss: 1.7520 - val_acc: 0.4027\n",
      "Epoch 14/100\n",
      "129/129 [==============================] - 74s 568ms/step - loss: 0.3488 - acc: 0.9031 - val_loss: 4.0439 - val_acc: 0.3026\n",
      "Epoch 15/100\n",
      "129/129 [==============================] - 72s 554ms/step - loss: 0.3821 - acc: 0.8882 - val_loss: 3.3573 - val_acc: 0.7292\n",
      "Epoch 16/100\n",
      "129/129 [==============================] - 72s 551ms/step - loss: 0.3292 - acc: 0.9051 - val_loss: 0.8398 - val_acc: 0.7486\n",
      "Epoch 17/100\n",
      "129/129 [==============================] - 77s 594ms/step - loss: 0.3552 - acc: 0.8980 - val_loss: 0.8209 - val_acc: 0.5802\n",
      "Epoch 18/100\n",
      "129/129 [==============================] - 73s 562ms/step - loss: 0.3281 - acc: 0.9082 - val_loss: 1.3266 - val_acc: 0.7327\n",
      "Epoch 19/100\n",
      "129/129 [==============================] - 74s 571ms/step - loss: 0.3287 - acc: 0.9080 - val_loss: 0.4920 - val_acc: 0.7782\n",
      "Epoch 20/100\n",
      "129/129 [==============================] - 74s 563ms/step - loss: 0.2980 - acc: 0.9209 - val_loss: 0.6983 - val_acc: 0.6667\n",
      "Epoch 21/100\n",
      "129/129 [==============================] - 74s 563ms/step - loss: 0.2916 - acc: 0.9163 - val_loss: 0.3498 - val_acc: 0.8555\n",
      "Epoch 22/100\n",
      "129/129 [==============================] - 74s 570ms/step - loss: 0.3071 - acc: 0.9129 - val_loss: 0.4393 - val_acc: 0.9090\n",
      "Epoch 23/100\n",
      "129/129 [==============================] - 73s 563ms/step - loss: 0.3130 - acc: 0.9126 - val_loss: 0.2497 - val_acc: 0.9033\n",
      "Epoch 24/100\n",
      "129/129 [==============================] - 73s 565ms/step - loss: 0.3053 - acc: 0.9183 - val_loss: 1.9834 - val_acc: 0.3800\n",
      "Epoch 25/100\n",
      "129/129 [==============================] - 73s 557ms/step - loss: 0.2972 - acc: 0.9200 - val_loss: 2.3954 - val_acc: 0.7292\n",
      "Epoch 26/100\n",
      "129/129 [==============================] - 73s 562ms/step - loss: 0.2762 - acc: 0.9222 - val_loss: 1.1678 - val_acc: 0.7349\n",
      "Epoch 27/100\n",
      "129/129 [==============================] - 74s 564ms/step - loss: 0.3110 - acc: 0.9161 - val_loss: 1.9754 - val_acc: 0.5631\n",
      "Epoch 28/100\n",
      "129/129 [==============================] - 72s 555ms/step - loss: 0.3435 - acc: 0.9051 - val_loss: 1.7948 - val_acc: 0.4289\n",
      "Epoch 29/100\n",
      "129/129 [==============================] - 73s 561ms/step - loss: 0.3044 - acc: 0.9161 - val_loss: 1.6116 - val_acc: 0.3959\n",
      "Epoch 30/100\n",
      "129/129 [==============================] - 72s 549ms/step - loss: 0.2944 - acc: 0.9170 - val_loss: 0.2409 - val_acc: 0.9010\n",
      "Epoch 31/100\n",
      "129/129 [==============================] - 72s 552ms/step - loss: 0.2771 - acc: 0.9256 - val_loss: 0.6002 - val_acc: 0.7827\n",
      "Epoch 32/100\n",
      "129/129 [==============================] - 72s 557ms/step - loss: 0.2879 - acc: 0.9265 - val_loss: 1.6957 - val_acc: 0.4664\n",
      "Epoch 33/100\n",
      "129/129 [==============================] - 73s 557ms/step - loss: 0.2848 - acc: 0.9214 - val_loss: 0.6177 - val_acc: 0.7338\n",
      "Epoch 34/100\n",
      "129/129 [==============================] - 73s 562ms/step - loss: 0.2815 - acc: 0.9214 - val_loss: 0.3475 - val_acc: 0.8532\n",
      "Epoch 35/100\n",
      "129/129 [==============================] - 72s 550ms/step - loss: 0.2806 - acc: 0.9180 - val_loss: 0.3506 - val_acc: 0.8646\n",
      "Epoch 36/100\n",
      "129/129 [==============================] - 72s 551ms/step - loss: 0.2655 - acc: 0.9270 - val_loss: 0.9741 - val_acc: 0.7474\n",
      "Epoch 37/100\n",
      "129/129 [==============================] - 73s 561ms/step - loss: 0.2735 - acc: 0.9292 - val_loss: 1.0460 - val_acc: 0.6121\n",
      "Epoch 38/100\n",
      "129/129 [==============================] - 74s 571ms/step - loss: 0.2639 - acc: 0.9292 - val_loss: 4.9189 - val_acc: 0.7292\n",
      "Epoch 39/100\n",
      "129/129 [==============================] - 73s 573ms/step - loss: 0.2666 - acc: 0.9256 - val_loss: 0.2384 - val_acc: 0.8965\n",
      "Epoch 40/100\n",
      "129/129 [==============================] - 74s 566ms/step - loss: 0.2595 - acc: 0.9307 - val_loss: 0.6765 - val_acc: 0.6712\n",
      "Epoch 41/100\n",
      "129/129 [==============================] - 74s 565ms/step - loss: 0.2924 - acc: 0.9209 - val_loss: 1.7745 - val_acc: 0.7292\n",
      "Epoch 42/100\n",
      "129/129 [==============================] - 73s 559ms/step - loss: 0.2734 - acc: 0.9256 - val_loss: 1.6058 - val_acc: 0.5768\n",
      "Epoch 43/100\n",
      "129/129 [==============================] - 74s 569ms/step - loss: 0.2859 - acc: 0.9226 - val_loss: 1.0445 - val_acc: 0.5609\n",
      "Epoch 44/100\n",
      "129/129 [==============================] - 73s 554ms/step - loss: 0.2792 - acc: 0.9305 - val_loss: 2.0301 - val_acc: 0.7292\n",
      "Epoch 45/100\n",
      "129/129 [==============================] - 73s 557ms/step - loss: 0.2777 - acc: 0.9285 - val_loss: 0.3798 - val_acc: 0.8578\n",
      "Epoch 46/100\n",
      "129/129 [==============================] - 73s 556ms/step - loss: 0.2527 - acc: 0.9261 - val_loss: 0.6901 - val_acc: 0.7008\n",
      "Epoch 47/100\n",
      "129/129 [==============================] - 73s 563ms/step - loss: 0.2628 - acc: 0.9302 - val_loss: 1.1489 - val_acc: 0.7349\n",
      "Epoch 48/100\n",
      "129/129 [==============================] - 73s 549ms/step - loss: 0.2640 - acc: 0.9275 - val_loss: 0.8088 - val_acc: 0.6746\n",
      "Epoch 49/100\n",
      "129/129 [==============================] - 73s 555ms/step - loss: 0.2453 - acc: 0.9336 - val_loss: 1.0639 - val_acc: 0.6268\n",
      "Epoch 50/100\n",
      "129/129 [==============================] - 72s 557ms/step - loss: 0.2520 - acc: 0.9334 - val_loss: 0.6398 - val_acc: 0.7167\n",
      "Epoch 51/100\n",
      "129/129 [==============================] - 72s 560ms/step - loss: 0.2423 - acc: 0.9305 - val_loss: 0.5605 - val_acc: 0.7406\n",
      "Epoch 52/100\n",
      "129/129 [==============================] - 73s 562ms/step - loss: 0.2418 - acc: 0.9339 - val_loss: 0.3642 - val_acc: 0.8464\n",
      "Epoch 53/100\n",
      "129/129 [==============================] - 73s 557ms/step - loss: 0.2575 - acc: 0.9287 - val_loss: 0.8698 - val_acc: 0.6359\n",
      "Epoch 54/100\n",
      "129/129 [==============================] - 73s 561ms/step - loss: 0.2494 - acc: 0.9319 - val_loss: 0.1927 - val_acc: 0.9170\n",
      "Epoch 55/100\n",
      "129/129 [==============================] - 72s 552ms/step - loss: 0.2563 - acc: 0.9341 - val_loss: 1.2411 - val_acc: 0.5392\n",
      "Epoch 56/100\n",
      "129/129 [==============================] - 72s 559ms/step - loss: 0.2507 - acc: 0.9319 - val_loss: 1.5609 - val_acc: 0.4209\n",
      "Epoch 57/100\n",
      "129/129 [==============================] - 72s 549ms/step - loss: 0.2360 - acc: 0.9402 - val_loss: 2.1035 - val_acc: 0.4198\n",
      "Epoch 58/100\n",
      "129/129 [==============================] - 71s 546ms/step - loss: 0.2613 - acc: 0.9351 - val_loss: 1.7140 - val_acc: 0.7304\n",
      "Epoch 59/100\n",
      "129/129 [==============================] - 71s 545ms/step - loss: 0.2341 - acc: 0.9378 - val_loss: 2.1745 - val_acc: 0.7292\n",
      "Epoch 60/100\n",
      "129/129 [==============================] - 71s 546ms/step - loss: 0.2298 - acc: 0.9378 - val_loss: 0.9105 - val_acc: 0.7372\n"
     ]
    },
    {
     "name": "stdout",
     "output_type": "stream",
     "text": [
      "Epoch 61/100\n",
      "129/129 [==============================] - 71s 547ms/step - loss: 0.2268 - acc: 0.9407 - val_loss: 0.1814 - val_acc: 0.9408\n",
      "Epoch 62/100\n",
      "129/129 [==============================] - 72s 563ms/step - loss: 0.2371 - acc: 0.9370 - val_loss: 1.3704 - val_acc: 0.7315\n",
      "Epoch 63/100\n",
      "129/129 [==============================] - 72s 549ms/step - loss: 0.2504 - acc: 0.9339 - val_loss: 2.6244 - val_acc: 0.7292\n",
      "Epoch 64/100\n",
      "129/129 [==============================] - 71s 545ms/step - loss: 0.2485 - acc: 0.9300 - val_loss: 0.6436 - val_acc: 0.7304\n",
      "Epoch 65/100\n",
      "129/129 [==============================] - 71s 546ms/step - loss: 0.2542 - acc: 0.9351 - val_loss: 1.0928 - val_acc: 0.6143\n",
      "Epoch 66/100\n",
      "129/129 [==============================] - 71s 551ms/step - loss: 0.2201 - acc: 0.9407 - val_loss: 0.7847 - val_acc: 0.6940\n",
      "Epoch 67/100\n",
      "129/129 [==============================] - 71s 549ms/step - loss: 0.2331 - acc: 0.9383 - val_loss: 0.3585 - val_acc: 0.8487\n",
      "Epoch 68/100\n",
      "129/129 [==============================] - 72s 560ms/step - loss: 0.2253 - acc: 0.9441 - val_loss: 6.9221 - val_acc: 0.7292\n",
      "Epoch 69/100\n",
      "129/129 [==============================] - 71s 547ms/step - loss: 0.2540 - acc: 0.9334 - val_loss: 0.8520 - val_acc: 0.7577\n",
      "Epoch 70/100\n",
      "129/129 [==============================] - 72s 552ms/step - loss: 0.2223 - acc: 0.9400 - val_loss: 2.1080 - val_acc: 0.7292\n",
      "Epoch 71/100\n",
      "129/129 [==============================] - 71s 549ms/step - loss: 0.2233 - acc: 0.9434 - val_loss: 0.9555 - val_acc: 0.6724\n",
      "Epoch 72/100\n",
      "129/129 [==============================] - 72s 548ms/step - loss: 0.2753 - acc: 0.9295 - val_loss: 1.0235 - val_acc: 0.7452\n",
      "Epoch 73/100\n",
      "129/129 [==============================] - 73s 566ms/step - loss: 0.2720 - acc: 0.9275 - val_loss: 5.0475 - val_acc: 0.7292\n",
      "Epoch 74/100\n",
      "129/129 [==============================] - 72s 546ms/step - loss: 0.2567 - acc: 0.9314 - val_loss: 2.5212 - val_acc: 0.7292\n",
      "Epoch 75/100\n",
      "129/129 [==============================] - 73s 560ms/step - loss: 0.2297 - acc: 0.9378 - val_loss: 3.9658 - val_acc: 0.7292\n",
      "Epoch 76/100\n",
      "129/129 [==============================] - 72s 549ms/step - loss: 0.2247 - acc: 0.9414 - val_loss: 0.3818 - val_acc: 0.8419\n",
      "Epoch 77/100\n",
      "129/129 [==============================] - 71s 548ms/step - loss: 0.2176 - acc: 0.9453 - val_loss: 1.7268 - val_acc: 0.5142\n",
      "Epoch 78/100\n",
      "129/129 [==============================] - 73s 558ms/step - loss: 0.2528 - acc: 0.9339 - val_loss: 0.5283 - val_acc: 0.8692\n",
      "Epoch 79/100\n",
      "129/129 [==============================] - 72s 550ms/step - loss: 0.2325 - acc: 0.9390 - val_loss: 1.3870 - val_acc: 0.7304\n",
      "Epoch 80/100\n",
      "129/129 [==============================] - 71s 548ms/step - loss: 0.2019 - acc: 0.9497 - val_loss: 0.5527 - val_acc: 0.7827\n",
      "Epoch 81/100\n",
      "129/129 [==============================] - 74s 568ms/step - loss: 0.2095 - acc: 0.9456 - val_loss: 1.6387 - val_acc: 0.4858\n",
      "Epoch 82/100\n",
      "129/129 [==============================] - 73s 561ms/step - loss: 0.2077 - acc: 0.9512 - val_loss: 0.5645 - val_acc: 0.7816\n",
      "Epoch 83/100\n",
      "129/129 [==============================] - 72s 549ms/step - loss: 0.2209 - acc: 0.9453 - val_loss: 0.6094 - val_acc: 0.7713\n",
      "Epoch 84/100\n",
      "129/129 [==============================] - 71s 543ms/step - loss: 0.2052 - acc: 0.9419 - val_loss: 1.1568 - val_acc: 0.6416\n",
      "Epoch 85/100\n",
      "129/129 [==============================] - 72s 556ms/step - loss: 0.2028 - acc: 0.9492 - val_loss: 3.6331 - val_acc: 0.3504\n",
      "Epoch 86/100\n",
      "129/129 [==============================] - 72s 550ms/step - loss: 0.2050 - acc: 0.9444 - val_loss: 0.1878 - val_acc: 0.9306\n",
      "Epoch 87/100\n",
      "129/129 [==============================] - 72s 550ms/step - loss: 0.2011 - acc: 0.9485 - val_loss: 0.2757 - val_acc: 0.9215\n",
      "Epoch 88/100\n",
      "129/129 [==============================] - 73s 559ms/step - loss: 0.2445 - acc: 0.9317 - val_loss: 1.5481 - val_acc: 0.7315\n",
      "Epoch 89/100\n",
      "129/129 [==============================] - 72s 545ms/step - loss: 0.2242 - acc: 0.9424 - val_loss: 0.6094 - val_acc: 0.7634\n",
      "Epoch 90/100\n",
      "129/129 [==============================] - 72s 551ms/step - loss: 0.2104 - acc: 0.9431 - val_loss: 1.6619 - val_acc: 0.5427\n",
      "Epoch 91/100\n",
      "129/129 [==============================] - 73s 562ms/step - loss: 0.2042 - acc: 0.9500 - val_loss: 1.2010 - val_acc: 0.7338\n",
      "Epoch 92/100\n",
      "129/129 [==============================] - 72s 559ms/step - loss: 0.2329 - acc: 0.9400 - val_loss: 0.6700 - val_acc: 0.7156\n",
      "Epoch 93/100\n",
      "129/129 [==============================] - 72s 551ms/step - loss: 0.2162 - acc: 0.9439 - val_loss: 5.1179 - val_acc: 0.7292\n",
      "Epoch 94/100\n",
      "129/129 [==============================] - 72s 549ms/step - loss: 0.2280 - acc: 0.9378 - val_loss: 3.3757 - val_acc: 0.3060\n",
      "Epoch 95/100\n",
      "129/129 [==============================] - 72s 550ms/step - loss: 0.1996 - acc: 0.9488 - val_loss: 1.0805 - val_acc: 0.6542\n",
      "Epoch 96/100\n",
      "129/129 [==============================] - 71s 549ms/step - loss: 0.1897 - acc: 0.9495 - val_loss: 1.8456 - val_acc: 0.4915\n",
      "Epoch 97/100\n",
      "129/129 [==============================] - 75s 581ms/step - loss: 0.1962 - acc: 0.9546 - val_loss: 0.7656 - val_acc: 0.7349\n",
      "Epoch 98/100\n",
      "129/129 [==============================] - 72s 550ms/step - loss: 0.2110 - acc: 0.9427 - val_loss: 0.2069 - val_acc: 0.9101\n",
      "Epoch 99/100\n",
      "129/129 [==============================] - 71s 544ms/step - loss: 0.1992 - acc: 0.9468 - val_loss: 0.6702 - val_acc: 0.7338\n",
      "Epoch 100/100\n",
      "129/129 [==============================] - 72s 560ms/step - loss: 0.1989 - acc: 0.9470 - val_loss: 0.1987 - val_acc: 0.9238\n"
     ]
    }
   ],
   "source": [
    "epochs = 100\n",
    "\n",
    "steps_per_epoch2 = np.ceil(train_generator2.samples / train_generator2.batch_size)\n",
    "validation_steps2 = np.ceil(val_generator2.samples / val_generator2.batch_size)\n",
    "\n",
    "history = model2.fit(\n",
    "    train_generator2,\n",
    "    steps_per_epoch=int(steps_per_epoch2),\n",
    "    epochs=epochs,\n",
    "    validation_data=val_generator2,\n",
    "    validation_steps=int(validation_steps2),\n",
    "    class_weight=class_weights)\n",
    "\n"
   ]
  },
  {
   "cell_type": "code",
   "execution_count": null,
   "id": "93ee8d87",
   "metadata": {},
   "outputs": [],
   "source": []
  },
  {
   "cell_type": "code",
   "execution_count": 8,
   "id": "57302259",
   "metadata": {},
   "outputs": [
    {
     "name": "stdout",
     "output_type": "stream",
     "text": [
      "129/129 [==============================] - 56s 435ms/step - loss: 0.1805 - acc: 0.9290\n",
      "28/28 [==============================] - 13s 468ms/step - loss: 0.1850 - acc: 0.9283\n",
      "Training set performance: [0.18054071068763733, 0.9289897680282593]\n",
      "Validation set performance: [0.18498709797859192, 0.928327739238739]\n"
     ]
    }
   ],
   "source": [
    "results_train = model2.evaluate(train_generator2)\n",
    "results_test = model2.evaluate(val_generator2)\n",
    "print('Training set performance:', results_train)\n",
    "print('Validation set performance:', results_test)"
   ]
  },
  {
   "cell_type": "code",
   "execution_count": 9,
   "id": "2dbf647e",
   "metadata": {},
   "outputs": [],
   "source": [
    "model2.save('modelv3weightedreg.h5')  # creates a HDF5 file 'my_model.h5'"
   ]
  },
  {
   "cell_type": "markdown",
   "id": "6536b3eb",
   "metadata": {},
   "source": [
    "## tried normalization again, didn't work"
   ]
  },
  {
   "cell_type": "code",
   "execution_count": null,
   "id": "b81958b9",
   "metadata": {},
   "outputs": [],
   "source": []
  }
 ],
 "metadata": {
  "kernelspec": {
   "display_name": "tooters",
   "language": "python",
   "name": "tooters"
  },
  "language_info": {
   "codemirror_mode": {
    "name": "ipython",
    "version": 3
   },
   "file_extension": ".py",
   "mimetype": "text/x-python",
   "name": "python",
   "nbconvert_exporter": "python",
   "pygments_lexer": "ipython3",
   "version": "3.8.13"
  }
 },
 "nbformat": 4,
 "nbformat_minor": 5
}
