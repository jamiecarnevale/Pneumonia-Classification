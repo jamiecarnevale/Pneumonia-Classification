{
 "cells": [
  {
   "cell_type": "code",
   "execution_count": 1,
   "id": "93c0c7b9",
   "metadata": {},
   "outputs": [],
   "source": [
    "from PIL import Image, ImageOps\n",
    "import numpy as np\n",
    "import pandas as pd\n",
    "from matplotlib import pyplot as plt\n",
    "import seaborn as sns\n",
    "import os, shutil\n",
    "import time\n",
    "import scipy\n",
    "from scipy import ndimage\n",
    "from tensorflow.keras.preprocessing.image import ImageDataGenerator, array_to_img, img_to_array, load_img\n",
    "import cv2\n",
    "from keras import models\n",
    "from keras import layers\n",
    "from sklearn.utils import class_weight"
   ]
  },
  {
   "cell_type": "markdown",
   "id": "cf7dd375",
   "metadata": {},
   "source": [
    "# Now lets try and to make the results better"
   ]
  },
  {
   "cell_type": "code",
   "execution_count": 2,
   "id": "70225cd1",
   "metadata": {},
   "outputs": [],
   "source": [
    "# Create a data generator\n",
    "datagen2 = ImageDataGenerator(\n",
    "    rescale=1./255, # normalize pixel values\n",
    "    rotation_range=20, # randomly rotate images in the range\n",
    "    zoom_range=0.2, # randomly zoom image \n",
    "    width_shift_range=0.2, # randomly shift images horizontally\n",
    "    height_shift_range=0.2, # randomly shift images vertically \n",
    "    horizontal_flip=True) # randomly flip images"
   ]
  },
  {
   "cell_type": "code",
   "execution_count": 3,
   "id": "57a15b4f",
   "metadata": {
    "scrolled": true
   },
   "outputs": [
    {
     "name": "stdout",
     "output_type": "stream",
     "text": [
      "Found 4098 images belonging to 2 classes.\n",
      "Found 879 images belonging to 2 classes.\n",
      "Found 879 images belonging to 2 classes.\n"
     ]
    }
   ],
   "source": [
    "# Use flow_from_directory to read images from folders\n",
    "train_generator2 = datagen2.flow_from_directory(\n",
    "        'CellData/chest_xray/train', # point to the parent directory\n",
    "        target_size=(299, 299), # resize images to 299x299\n",
    "        batch_size=32,\n",
    "        class_mode='binary') # binary for two classes\n",
    "\n",
    "# Similarly create validation and test generators\n",
    "val_generator2 = datagen2.flow_from_directory(\n",
    "        'CellData/chest_xray/val',\n",
    "        target_size=(299, 299),\n",
    "        batch_size=32,\n",
    "        class_mode='binary')\n",
    "\n",
    "test_generator2 = datagen2.flow_from_directory(\n",
    "        'CellData/chest_xray/test',\n",
    "        target_size=(299, 299),\n",
    "        batch_size=32,\n",
    "        class_mode='binary')\n"
   ]
  },
  {
   "cell_type": "code",
   "execution_count": 4,
   "id": "3019617e",
   "metadata": {},
   "outputs": [
    {
     "name": "stdout",
     "output_type": "stream",
     "text": [
      "Metal device set to: Apple M2 Pro\n"
     ]
    },
    {
     "name": "stderr",
     "output_type": "stream",
     "text": [
      "2023-07-12 18:46:01.256054: I tensorflow/core/common_runtime/pluggable_device/pluggable_device_factory.cc:305] Could not identify NUMA node of platform GPU ID 0, defaulting to 0. Your kernel may not have been built with NUMA support.\n",
      "2023-07-12 18:46:01.256804: I tensorflow/core/common_runtime/pluggable_device/pluggable_device_factory.cc:271] Created TensorFlow device (/job:localhost/replica:0/task:0/device:GPU:0 with 0 MB memory) -> physical PluggableDevice (device: 0, name: METAL, pci bus id: <undefined>)\n"
     ]
    }
   ],
   "source": [
    "model2 = models.Sequential()\n",
    "model2.add(layers.Conv2D(32, (3,3), activation='relu',\n",
    "                        input_shape=(299 , 299,  3)))\n",
    "model2.add(layers.MaxPooling2D((2, 2)))\n",
    "\n",
    "model2.add(layers.Conv2D(32, (3, 3), activation='relu'))\n",
    "model2.add(layers.MaxPooling2D((2, 2)))\n",
    "\n",
    "model2.add(layers.Conv2D(64, (3, 3), activation='relu'))\n",
    "model2.add(layers.MaxPooling2D((2, 2)))\n",
    "\n",
    "model2.add(layers.Flatten())\n",
    "model2.add(layers.Dense(64, activation='relu'))\n",
    "model2.add(layers.Dense(1, activation='sigmoid'))\n",
    "\n",
    "model2.compile(loss='binary_crossentropy',\n",
    "              optimizer=\"adam\",\n",
    "              metrics=['acc'])"
   ]
  },
  {
   "cell_type": "code",
   "execution_count": 5,
   "id": "6c2c7fa4",
   "metadata": {},
   "outputs": [
    {
     "name": "stdout",
     "output_type": "stream",
     "text": [
      "Counter({1: 2991, 0: 1107})\n",
      "2991.0\n",
      "{0: 2.7018970189701896, 1: 1.0}\n"
     ]
    }
   ],
   "source": [
    "from collections import Counter\n",
    "import numpy as np\n",
    "\n",
    "# Get class distribution\n",
    "counter = Counter(train_generator2.classes)                          \n",
    "max_val = float(max(counter.values()))       \n",
    "class_weights = {class_id : max_val/num_images for class_id, num_images in counter.items()}                     \n",
    "\n",
    "print(counter)\n",
    "print(max_val)\n",
    "print(class_weights)"
   ]
  },
  {
   "cell_type": "code",
   "execution_count": 6,
   "id": "f92810f6",
   "metadata": {},
   "outputs": [
    {
     "name": "stdout",
     "output_type": "stream",
     "text": [
      "Epoch 1/30\n"
     ]
    },
    {
     "name": "stderr",
     "output_type": "stream",
     "text": [
      "2023-07-12 18:46:07.737331: W tensorflow/core/platform/profile_utils/cpu_utils.cc:128] Failed to get CPU frequency: 0 Hz\n",
      "2023-07-12 18:46:07.934688: I tensorflow/core/grappler/optimizers/custom_graph_optimizer_registry.cc:113] Plugin optimizer for device_type GPU is enabled.\n"
     ]
    },
    {
     "name": "stdout",
     "output_type": "stream",
     "text": [
      "129/129 [==============================] - ETA: 0s - loss: 0.8031 - acc: 0.7182"
     ]
    },
    {
     "name": "stderr",
     "output_type": "stream",
     "text": [
      "2023-07-12 18:47:03.140423: I tensorflow/core/grappler/optimizers/custom_graph_optimizer_registry.cc:113] Plugin optimizer for device_type GPU is enabled.\n"
     ]
    },
    {
     "name": "stdout",
     "output_type": "stream",
     "text": [
      "129/129 [==============================] - 67s 501ms/step - loss: 0.8031 - acc: 0.7182 - val_loss: 0.3846 - val_acc: 0.8180\n",
      "Epoch 2/30\n",
      "129/129 [==============================] - 69s 535ms/step - loss: 0.5771 - acc: 0.8187 - val_loss: 0.3172 - val_acc: 0.8760\n",
      "Epoch 3/30\n",
      "129/129 [==============================] - 68s 522ms/step - loss: 0.5197 - acc: 0.8482 - val_loss: 0.2449 - val_acc: 0.9090\n",
      "Epoch 4/30\n",
      "129/129 [==============================] - 67s 515ms/step - loss: 0.4674 - acc: 0.8590 - val_loss: 0.2532 - val_acc: 0.8908\n",
      "Epoch 5/30\n",
      "129/129 [==============================] - 67s 516ms/step - loss: 0.4552 - acc: 0.8707 - val_loss: 0.2470 - val_acc: 0.8999\n",
      "Epoch 6/30\n",
      "129/129 [==============================] - 67s 518ms/step - loss: 0.4224 - acc: 0.8821 - val_loss: 0.2075 - val_acc: 0.9147\n",
      "Epoch 7/30\n",
      "129/129 [==============================] - 67s 517ms/step - loss: 0.4142 - acc: 0.8821 - val_loss: 0.2642 - val_acc: 0.8965\n",
      "Epoch 8/30\n",
      "129/129 [==============================] - 67s 518ms/step - loss: 0.3874 - acc: 0.8931 - val_loss: 0.2382 - val_acc: 0.9010\n",
      "Epoch 9/30\n",
      "129/129 [==============================] - 67s 517ms/step - loss: 0.3804 - acc: 0.8919 - val_loss: 0.2563 - val_acc: 0.8953\n",
      "Epoch 10/30\n",
      "129/129 [==============================] - 67s 517ms/step - loss: 0.3871 - acc: 0.8939 - val_loss: 0.2139 - val_acc: 0.9090\n",
      "Epoch 11/30\n",
      "129/129 [==============================] - 67s 519ms/step - loss: 0.3295 - acc: 0.9046 - val_loss: 0.2948 - val_acc: 0.8840\n",
      "Epoch 12/30\n",
      "129/129 [==============================] - 67s 517ms/step - loss: 0.3962 - acc: 0.8792 - val_loss: 0.2498 - val_acc: 0.8987\n",
      "Epoch 13/30\n",
      "129/129 [==============================] - 67s 518ms/step - loss: 0.3199 - acc: 0.9070 - val_loss: 0.1984 - val_acc: 0.9295\n",
      "Epoch 14/30\n",
      "129/129 [==============================] - 67s 520ms/step - loss: 0.3270 - acc: 0.9080 - val_loss: 0.1933 - val_acc: 0.9226\n",
      "Epoch 15/30\n",
      "129/129 [==============================] - 67s 517ms/step - loss: 0.3098 - acc: 0.9087 - val_loss: 0.1947 - val_acc: 0.9306\n",
      "Epoch 16/30\n",
      "129/129 [==============================] - 67s 517ms/step - loss: 0.3394 - acc: 0.8990 - val_loss: 0.2057 - val_acc: 0.9226\n",
      "Epoch 17/30\n",
      "129/129 [==============================] - 67s 516ms/step - loss: 0.2978 - acc: 0.9143 - val_loss: 0.1876 - val_acc: 0.9283\n",
      "Epoch 18/30\n",
      "129/129 [==============================] - 67s 517ms/step - loss: 0.3056 - acc: 0.9126 - val_loss: 0.2237 - val_acc: 0.9067\n",
      "Epoch 19/30\n",
      "129/129 [==============================] - 67s 517ms/step - loss: 0.2920 - acc: 0.9158 - val_loss: 0.1719 - val_acc: 0.9340\n",
      "Epoch 20/30\n",
      "129/129 [==============================] - 67s 516ms/step - loss: 0.2698 - acc: 0.9212 - val_loss: 0.1584 - val_acc: 0.9306\n",
      "Epoch 21/30\n",
      "129/129 [==============================] - 67s 516ms/step - loss: 0.2744 - acc: 0.9190 - val_loss: 0.1461 - val_acc: 0.9454\n",
      "Epoch 22/30\n",
      "129/129 [==============================] - 67s 516ms/step - loss: 0.2851 - acc: 0.9256 - val_loss: 0.2233 - val_acc: 0.9158\n",
      "Epoch 23/30\n",
      "129/129 [==============================] - 67s 518ms/step - loss: 0.2651 - acc: 0.9278 - val_loss: 0.1948 - val_acc: 0.9261\n",
      "Epoch 24/30\n",
      "129/129 [==============================] - 67s 517ms/step - loss: 0.2650 - acc: 0.9234 - val_loss: 0.1621 - val_acc: 0.9340\n",
      "Epoch 25/30\n",
      "129/129 [==============================] - 67s 517ms/step - loss: 0.2755 - acc: 0.9241 - val_loss: 0.1707 - val_acc: 0.9317\n",
      "Epoch 26/30\n",
      "129/129 [==============================] - 67s 515ms/step - loss: 0.2496 - acc: 0.9290 - val_loss: 0.1730 - val_acc: 0.9352\n",
      "Epoch 27/30\n",
      "129/129 [==============================] - 68s 524ms/step - loss: 0.2709 - acc: 0.9226 - val_loss: 0.1564 - val_acc: 0.9374\n",
      "Epoch 28/30\n",
      "129/129 [==============================] - 68s 524ms/step - loss: 0.2729 - acc: 0.9265 - val_loss: 0.1702 - val_acc: 0.9397\n",
      "Epoch 29/30\n",
      "129/129 [==============================] - 67s 519ms/step - loss: 0.2442 - acc: 0.9280 - val_loss: 0.1912 - val_acc: 0.9226\n",
      "Epoch 30/30\n",
      "129/129 [==============================] - 69s 534ms/step - loss: 0.2603 - acc: 0.9305 - val_loss: 0.1722 - val_acc: 0.9283\n"
     ]
    }
   ],
   "source": [
    "epochs = 30\n",
    "\n",
    "steps_per_epoch2 = np.ceil(train_generator2.samples / train_generator2.batch_size)\n",
    "validation_steps2 = np.ceil(val_generator2.samples / val_generator2.batch_size)\n",
    "\n",
    "history = model2.fit(\n",
    "    train_generator2,\n",
    "    steps_per_epoch=int(steps_per_epoch2),\n",
    "    epochs=epochs,\n",
    "    validation_data=val_generator2,\n",
    "    validation_steps=int(validation_steps2),\n",
    "    class_weight=class_weights)\n",
    "\n"
   ]
  },
  {
   "cell_type": "code",
   "execution_count": null,
   "id": "7c277cdc",
   "metadata": {},
   "outputs": [],
   "source": []
  },
  {
   "cell_type": "code",
   "execution_count": 7,
   "id": "57302259",
   "metadata": {},
   "outputs": [
    {
     "name": "stdout",
     "output_type": "stream",
     "text": [
      "129/129 [==============================] - 56s 431ms/step - loss: 0.1741 - acc: 0.9285\n",
      "28/28 [==============================] - 12s 434ms/step - loss: 0.1721 - acc: 0.9306\n",
      "Training set performance: [0.17413726449012756, 0.9285017251968384]\n",
      "Validation set performance: [0.17206381261348724, 0.93060302734375]\n"
     ]
    }
   ],
   "source": [
    "results_train = model2.evaluate(train_generator2)\n",
    "results_test = model2.evaluate(val_generator2)\n",
    "print('Training set performance:', results_train)\n",
    "print('Validation set performance:', results_test)"
   ]
  },
  {
   "cell_type": "code",
   "execution_count": null,
   "id": "5c3ab879",
   "metadata": {},
   "outputs": [],
   "source": []
  },
  {
   "cell_type": "markdown",
   "id": "57414f8c",
   "metadata": {},
   "source": [
    "## not really better than the last model"
   ]
  },
  {
   "cell_type": "code",
   "execution_count": null,
   "id": "6fbf3ea8",
   "metadata": {},
   "outputs": [],
   "source": []
  }
 ],
 "metadata": {
  "kernelspec": {
   "display_name": "tooters",
   "language": "python",
   "name": "tooters"
  },
  "language_info": {
   "codemirror_mode": {
    "name": "ipython",
    "version": 3
   },
   "file_extension": ".py",
   "mimetype": "text/x-python",
   "name": "python",
   "nbconvert_exporter": "python",
   "pygments_lexer": "ipython3",
   "version": "3.8.13"
  }
 },
 "nbformat": 4,
 "nbformat_minor": 5
}
