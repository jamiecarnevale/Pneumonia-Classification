{
 "cells": [
  {
   "cell_type": "code",
   "execution_count": 13,
   "id": "93c0c7b9",
   "metadata": {},
   "outputs": [],
   "source": [
    "from PIL import Image, ImageOps\n",
    "import numpy as np\n",
    "import pandas as pd\n",
    "from matplotlib import pyplot as plt\n",
    "import seaborn as sns\n",
    "import os, shutil\n",
    "import time\n",
    "import scipy\n",
    "from scipy import ndimage\n",
    "from tensorflow.keras.preprocessing.image import ImageDataGenerator, array_to_img, img_to_array, load_img\n",
    "import cv2\n",
    "from keras import models\n",
    "from keras import layers\n",
    "from sklearn.utils import class_weight"
   ]
  },
  {
   "cell_type": "markdown",
   "id": "cf7dd375",
   "metadata": {},
   "source": [
    "# Now lets try and to make the results better"
   ]
  },
  {
   "cell_type": "code",
   "execution_count": 14,
   "id": "70225cd1",
   "metadata": {},
   "outputs": [],
   "source": [
    "# Create a data generator\n",
    "datagen2 = ImageDataGenerator(\n",
    "    rescale=1./255, # normalize pixel values\n",
    "    rotation_range=45, # randomly rotate images in the range\n",
    "    zoom_range=0.35, # randomly zoom image \n",
    "    width_shift_range=0.35, # randomly shift images horizontally\n",
    "    height_shift_range=0.35, # randomly shift images vertically \n",
    "    horizontal_flip=True,\n",
    "    vertical_flip=True) # randomly flip images"
   ]
  },
  {
   "cell_type": "code",
   "execution_count": 15,
   "id": "57a15b4f",
   "metadata": {
    "scrolled": true
   },
   "outputs": [
    {
     "name": "stdout",
     "output_type": "stream",
     "text": [
      "Found 4098 images belonging to 2 classes.\n",
      "Found 878 images belonging to 2 classes.\n",
      "Found 879 images belonging to 2 classes.\n"
     ]
    }
   ],
   "source": [
    "# Use flow_from_directory to read images from folders\n",
    "train_generator2 = datagen2.flow_from_directory(\n",
    "        'CellData/chest_xray/train', # point to the parent directory\n",
    "        target_size=(299, 299), # resize images to 299x299\n",
    "        batch_size=32,\n",
    "        class_mode='binary') # binary for two classes\n",
    "\n",
    "# Similarly create validation and test generators\n",
    "val_generator2 = datagen2.flow_from_directory(\n",
    "        'CellData/chest_xray/val',\n",
    "        target_size=(299, 299),\n",
    "        batch_size=32,\n",
    "        class_mode='binary')\n",
    "\n",
    "test_generator2 = datagen2.flow_from_directory(\n",
    "        'CellData/chest_xray/test',\n",
    "        target_size=(299, 299),\n",
    "        batch_size=32,\n",
    "        class_mode='binary')\n"
   ]
  },
  {
   "cell_type": "code",
   "execution_count": 16,
   "id": "3019617e",
   "metadata": {},
   "outputs": [],
   "source": [
    "model2 = models.Sequential()\n",
    "model2.add(layers.Conv2D(64, (6, 6), activation='relu',\n",
    "                        input_shape=(299 , 299,  3)))\n",
    "model2.add(layers.MaxPooling2D((2, 2)))\n",
    "\n",
    "model2.add(layers.Conv2D(64, (5, 5), activation='relu'))\n",
    "model2.add(layers.MaxPooling2D((2, 2)))\n",
    "\n",
    "model2.add(layers.Conv2D(128, (4, 4), activation='relu'))\n",
    "model2.add(layers.MaxPooling2D((2, 2)))\n",
    "\n",
    "model2.add(layers.Conv2D(256, (3, 3), activation='relu'))\n",
    "model2.add(layers.MaxPooling2D((2, 2)))\n",
    "\n",
    "model2.add(layers.Flatten())\n",
    "model2.add(layers.Dense(128, activation='relu'))\n",
    "model2.add(layers.Dense(256, activation='relu'))\n",
    "model2.add(layers.Dense(512, activation='relu'))\n",
    "model2.add(layers.Dense(1, activation='sigmoid'))\n",
    "\n",
    "model2.compile(loss='binary_crossentropy',\n",
    "              optimizer=\"adam\",\n",
    "              metrics=['acc'])"
   ]
  },
  {
   "cell_type": "code",
   "execution_count": 17,
   "id": "07502424",
   "metadata": {},
   "outputs": [
    {
     "name": "stdout",
     "output_type": "stream",
     "text": [
      "Counter({1: 2991, 0: 1107})\n",
      "2991.0\n",
      "{0: 2.7018970189701896, 1: 1.0}\n"
     ]
    }
   ],
   "source": [
    "from collections import Counter\n",
    "import numpy as np\n",
    "\n",
    "# Get class distribution\n",
    "counter = Counter(train_generator2.classes)                          \n",
    "max_val = float(max(counter.values()))       \n",
    "class_weights = {class_id : max_val/num_images for class_id, num_images in counter.items()}                     \n",
    "\n",
    "print(counter)\n",
    "print(max_val)\n",
    "print(class_weights)"
   ]
  },
  {
   "cell_type": "code",
   "execution_count": 18,
   "id": "f92810f6",
   "metadata": {
    "scrolled": false
   },
   "outputs": [
    {
     "name": "stdout",
     "output_type": "stream",
     "text": [
      "Epoch 1/100\n"
     ]
    },
    {
     "name": "stderr",
     "output_type": "stream",
     "text": [
      "2023-07-13 10:21:11.397903: I tensorflow/core/grappler/optimizers/custom_graph_optimizer_registry.cc:113] Plugin optimizer for device_type GPU is enabled.\n"
     ]
    },
    {
     "name": "stdout",
     "output_type": "stream",
     "text": [
      "129/129 [==============================] - ETA: 0s - loss: 0.9468 - acc: 0.6176"
     ]
    },
    {
     "name": "stderr",
     "output_type": "stream",
     "text": [
      "2023-07-13 10:22:12.520113: I tensorflow/core/grappler/optimizers/custom_graph_optimizer_registry.cc:113] Plugin optimizer for device_type GPU is enabled.\n"
     ]
    },
    {
     "name": "stdout",
     "output_type": "stream",
     "text": [
      "129/129 [==============================] - 75s 536ms/step - loss: 0.9468 - acc: 0.6176 - val_loss: 0.7206 - val_acc: 0.5296\n",
      "Epoch 2/100\n",
      "129/129 [==============================] - 72s 553ms/step - loss: 0.7709 - acc: 0.7233 - val_loss: 0.6712 - val_acc: 0.6230\n",
      "Epoch 3/100\n",
      "129/129 [==============================] - 71s 551ms/step - loss: 0.7067 - acc: 0.7882 - val_loss: 0.3686 - val_acc: 0.8451\n",
      "Epoch 4/100\n",
      "129/129 [==============================] - 71s 551ms/step - loss: 0.6294 - acc: 0.8009 - val_loss: 0.3863 - val_acc: 0.8440\n",
      "Epoch 5/100\n",
      "129/129 [==============================] - 74s 570ms/step - loss: 0.6038 - acc: 0.8141 - val_loss: 0.3933 - val_acc: 0.8223\n",
      "Epoch 6/100\n",
      "129/129 [==============================] - 72s 555ms/step - loss: 0.5658 - acc: 0.8238 - val_loss: 0.3061 - val_acc: 0.8576\n",
      "Epoch 7/100\n",
      "129/129 [==============================] - 72s 551ms/step - loss: 0.5540 - acc: 0.8304 - val_loss: 0.3692 - val_acc: 0.8519\n",
      "Epoch 8/100\n",
      "129/129 [==============================] - 72s 556ms/step - loss: 0.5691 - acc: 0.8216 - val_loss: 0.2996 - val_acc: 0.8622\n",
      "Epoch 9/100\n",
      "129/129 [==============================] - 74s 572ms/step - loss: 0.5529 - acc: 0.8306 - val_loss: 0.3186 - val_acc: 0.8713\n",
      "Epoch 10/100\n",
      "129/129 [==============================] - 73s 563ms/step - loss: 0.5528 - acc: 0.8336 - val_loss: 0.3333 - val_acc: 0.8656\n",
      "Epoch 11/100\n",
      "129/129 [==============================] - 74s 573ms/step - loss: 0.5345 - acc: 0.8399 - val_loss: 0.2788 - val_acc: 0.8770\n",
      "Epoch 12/100\n",
      "129/129 [==============================] - 71s 550ms/step - loss: 0.5202 - acc: 0.8463 - val_loss: 0.3006 - val_acc: 0.8827\n",
      "Epoch 13/100\n",
      "129/129 [==============================] - 72s 552ms/step - loss: 0.5189 - acc: 0.8465 - val_loss: 0.3078 - val_acc: 0.8941\n",
      "Epoch 14/100\n",
      "129/129 [==============================] - 72s 552ms/step - loss: 0.5115 - acc: 0.8516 - val_loss: 0.2659 - val_acc: 0.8872\n",
      "Epoch 15/100\n",
      "129/129 [==============================] - 74s 573ms/step - loss: 0.5175 - acc: 0.8407 - val_loss: 0.3476 - val_acc: 0.8519\n",
      "Epoch 16/100\n",
      "129/129 [==============================] - 72s 557ms/step - loss: 0.5041 - acc: 0.8504 - val_loss: 0.3122 - val_acc: 0.8633\n",
      "Epoch 17/100\n",
      "129/129 [==============================] - 73s 566ms/step - loss: 0.4947 - acc: 0.8577 - val_loss: 0.2783 - val_acc: 0.8838\n",
      "Epoch 18/100\n",
      "129/129 [==============================] - 74s 572ms/step - loss: 0.5045 - acc: 0.8560 - val_loss: 0.2579 - val_acc: 0.8918\n",
      "Epoch 19/100\n",
      "129/129 [==============================] - 73s 565ms/step - loss: 0.4959 - acc: 0.8612 - val_loss: 0.2599 - val_acc: 0.8998\n",
      "Epoch 20/100\n",
      "129/129 [==============================] - 73s 563ms/step - loss: 0.4752 - acc: 0.8533 - val_loss: 0.2705 - val_acc: 0.8838\n",
      "Epoch 21/100\n",
      "129/129 [==============================] - 72s 556ms/step - loss: 0.5041 - acc: 0.8463 - val_loss: 0.2928 - val_acc: 0.8724\n",
      "Epoch 22/100\n",
      "129/129 [==============================] - 73s 560ms/step - loss: 0.4719 - acc: 0.8638 - val_loss: 0.3793 - val_acc: 0.8474\n",
      "Epoch 23/100\n",
      "129/129 [==============================] - 73s 565ms/step - loss: 0.4743 - acc: 0.8570 - val_loss: 0.2869 - val_acc: 0.8838\n",
      "Epoch 24/100\n",
      "129/129 [==============================] - 71s 546ms/step - loss: 0.4586 - acc: 0.8616 - val_loss: 0.3420 - val_acc: 0.8724\n",
      "Epoch 25/100\n",
      "129/129 [==============================] - 73s 566ms/step - loss: 0.4841 - acc: 0.8514 - val_loss: 0.2701 - val_acc: 0.8838\n",
      "Epoch 26/100\n",
      "129/129 [==============================] - 73s 563ms/step - loss: 0.4406 - acc: 0.8621 - val_loss: 0.3256 - val_acc: 0.8781\n",
      "Epoch 27/100\n",
      "129/129 [==============================] - 71s 549ms/step - loss: 0.4630 - acc: 0.8643 - val_loss: 0.2580 - val_acc: 0.8907\n",
      "Epoch 28/100\n",
      "129/129 [==============================] - 73s 560ms/step - loss: 0.4329 - acc: 0.8653 - val_loss: 0.2273 - val_acc: 0.9043\n",
      "Epoch 29/100\n",
      "129/129 [==============================] - 74s 571ms/step - loss: 0.4527 - acc: 0.8648 - val_loss: 0.3272 - val_acc: 0.8554\n",
      "Epoch 30/100\n",
      "129/129 [==============================] - 72s 557ms/step - loss: 0.4342 - acc: 0.8682 - val_loss: 0.2522 - val_acc: 0.9009\n",
      "Epoch 31/100\n",
      "129/129 [==============================] - 72s 554ms/step - loss: 0.4365 - acc: 0.8697 - val_loss: 0.2774 - val_acc: 0.8804\n",
      "Epoch 32/100\n",
      "129/129 [==============================] - 71s 549ms/step - loss: 0.4054 - acc: 0.8753 - val_loss: 0.3300 - val_acc: 0.8633\n",
      "Epoch 33/100\n",
      "129/129 [==============================] - 73s 560ms/step - loss: 0.4225 - acc: 0.8746 - val_loss: 0.2429 - val_acc: 0.8929\n",
      "Epoch 34/100\n",
      "129/129 [==============================] - 73s 563ms/step - loss: 0.4185 - acc: 0.8768 - val_loss: 0.2807 - val_acc: 0.8975\n",
      "Epoch 35/100\n",
      "129/129 [==============================] - 74s 571ms/step - loss: 0.4169 - acc: 0.8753 - val_loss: 0.2351 - val_acc: 0.9066\n",
      "Epoch 36/100\n",
      "129/129 [==============================] - 72s 552ms/step - loss: 0.4177 - acc: 0.8807 - val_loss: 0.2416 - val_acc: 0.9032\n",
      "Epoch 37/100\n",
      "129/129 [==============================] - 72s 556ms/step - loss: 0.4204 - acc: 0.8816 - val_loss: 0.3170 - val_acc: 0.8861\n",
      "Epoch 38/100\n",
      "129/129 [==============================] - 71s 550ms/step - loss: 0.4167 - acc: 0.8790 - val_loss: 0.2631 - val_acc: 0.8929\n",
      "Epoch 39/100\n",
      "129/129 [==============================] - 73s 562ms/step - loss: 0.4232 - acc: 0.8707 - val_loss: 0.2799 - val_acc: 0.8907\n",
      "Epoch 40/100\n",
      "129/129 [==============================] - 72s 554ms/step - loss: 0.4215 - acc: 0.8738 - val_loss: 0.2637 - val_acc: 0.8884\n",
      "Epoch 41/100\n",
      "129/129 [==============================] - 74s 574ms/step - loss: 0.3898 - acc: 0.8804 - val_loss: 0.2974 - val_acc: 0.8941\n",
      "Epoch 42/100\n",
      "129/129 [==============================] - 73s 564ms/step - loss: 0.3717 - acc: 0.8858 - val_loss: 0.3002 - val_acc: 0.8861\n",
      "Epoch 43/100\n",
      "129/129 [==============================] - 71s 550ms/step - loss: 0.3986 - acc: 0.8821 - val_loss: 0.2243 - val_acc: 0.9066\n",
      "Epoch 44/100\n",
      "129/129 [==============================] - 71s 547ms/step - loss: 0.3895 - acc: 0.8763 - val_loss: 0.2784 - val_acc: 0.8975\n",
      "Epoch 45/100\n",
      "129/129 [==============================] - 71s 548ms/step - loss: 0.3902 - acc: 0.8821 - val_loss: 0.3256 - val_acc: 0.8747\n",
      "Epoch 46/100\n",
      "129/129 [==============================] - 72s 554ms/step - loss: 0.3858 - acc: 0.8848 - val_loss: 0.2367 - val_acc: 0.8918\n",
      "Epoch 47/100\n",
      "129/129 [==============================] - 72s 559ms/step - loss: 0.3807 - acc: 0.8856 - val_loss: 0.2672 - val_acc: 0.8929\n",
      "Epoch 48/100\n",
      "129/129 [==============================] - 72s 554ms/step - loss: 0.3823 - acc: 0.8860 - val_loss: 0.2180 - val_acc: 0.9134\n",
      "Epoch 49/100\n",
      "129/129 [==============================] - 72s 553ms/step - loss: 0.3942 - acc: 0.8873 - val_loss: 0.2280 - val_acc: 0.9089\n",
      "Epoch 50/100\n",
      "129/129 [==============================] - 77s 596ms/step - loss: 0.6269 - acc: 0.8392 - val_loss: 0.2496 - val_acc: 0.9009\n",
      "Epoch 51/100\n",
      "129/129 [==============================] - 75s 580ms/step - loss: 0.4537 - acc: 0.8616 - val_loss: 0.4174 - val_acc: 0.8075\n",
      "Epoch 52/100\n",
      "129/129 [==============================] - 72s 551ms/step - loss: 0.4135 - acc: 0.8748 - val_loss: 0.2386 - val_acc: 0.9066\n",
      "Epoch 53/100\n",
      "129/129 [==============================] - 72s 559ms/step - loss: 0.3919 - acc: 0.8797 - val_loss: 0.2618 - val_acc: 0.8918\n",
      "Epoch 54/100\n",
      "129/129 [==============================] - 71s 544ms/step - loss: 0.3790 - acc: 0.8834 - val_loss: 0.3167 - val_acc: 0.8850\n",
      "Epoch 55/100\n",
      "129/129 [==============================] - 72s 554ms/step - loss: 0.3942 - acc: 0.8834 - val_loss: 0.2471 - val_acc: 0.9043\n",
      "Epoch 56/100\n",
      "129/129 [==============================] - 71s 545ms/step - loss: 0.3776 - acc: 0.8912 - val_loss: 0.2832 - val_acc: 0.8907\n",
      "Epoch 57/100\n",
      "129/129 [==============================] - 70s 541ms/step - loss: 0.3691 - acc: 0.8902 - val_loss: 0.2196 - val_acc: 0.9169\n",
      "Epoch 58/100\n",
      "129/129 [==============================] - 71s 550ms/step - loss: 0.3882 - acc: 0.8846 - val_loss: 0.2052 - val_acc: 0.9112\n",
      "Epoch 59/100\n",
      "129/129 [==============================] - 72s 557ms/step - loss: 0.3796 - acc: 0.8890 - val_loss: 0.2239 - val_acc: 0.9055\n",
      "Epoch 60/100\n",
      "129/129 [==============================] - 73s 558ms/step - loss: 0.4032 - acc: 0.8780 - val_loss: 0.2927 - val_acc: 0.8724\n"
     ]
    },
    {
     "name": "stdout",
     "output_type": "stream",
     "text": [
      "Epoch 61/100\n",
      "129/129 [==============================] - 72s 554ms/step - loss: 0.3679 - acc: 0.8875 - val_loss: 0.2873 - val_acc: 0.8656\n",
      "Epoch 62/100\n",
      "129/129 [==============================] - 71s 550ms/step - loss: 0.3720 - acc: 0.8836 - val_loss: 0.3045 - val_acc: 0.8815\n",
      "Epoch 63/100\n",
      "129/129 [==============================] - 72s 556ms/step - loss: 0.3599 - acc: 0.8919 - val_loss: 0.2437 - val_acc: 0.8975\n",
      "Epoch 64/100\n",
      "129/129 [==============================] - 71s 551ms/step - loss: 0.3661 - acc: 0.8941 - val_loss: 0.2512 - val_acc: 0.9043\n",
      "Epoch 65/100\n",
      "129/129 [==============================] - 72s 554ms/step - loss: 0.3675 - acc: 0.8914 - val_loss: 0.2598 - val_acc: 0.8907\n",
      "Epoch 66/100\n",
      "129/129 [==============================] - 72s 555ms/step - loss: 0.3531 - acc: 0.8936 - val_loss: 0.2170 - val_acc: 0.9134\n",
      "Epoch 67/100\n",
      "129/129 [==============================] - 71s 550ms/step - loss: 0.3596 - acc: 0.8941 - val_loss: 0.1997 - val_acc: 0.9191\n",
      "Epoch 68/100\n",
      "129/129 [==============================] - 71s 546ms/step - loss: 0.3598 - acc: 0.8895 - val_loss: 0.1761 - val_acc: 0.9305\n",
      "Epoch 69/100\n",
      "129/129 [==============================] - 71s 548ms/step - loss: 0.3519 - acc: 0.8987 - val_loss: 0.2533 - val_acc: 0.9089\n",
      "Epoch 70/100\n",
      "129/129 [==============================] - 71s 543ms/step - loss: 0.3559 - acc: 0.8936 - val_loss: 0.3863 - val_acc: 0.8610\n",
      "Epoch 71/100\n",
      "129/129 [==============================] - 71s 544ms/step - loss: 0.3785 - acc: 0.8924 - val_loss: 0.1914 - val_acc: 0.9271\n",
      "Epoch 72/100\n",
      "129/129 [==============================] - 71s 546ms/step - loss: 0.3494 - acc: 0.8960 - val_loss: 0.1926 - val_acc: 0.9248\n",
      "Epoch 73/100\n",
      "129/129 [==============================] - 71s 550ms/step - loss: 0.3341 - acc: 0.8975 - val_loss: 0.1770 - val_acc: 0.9226\n",
      "Epoch 74/100\n",
      "129/129 [==============================] - 73s 564ms/step - loss: 0.3653 - acc: 0.8939 - val_loss: 0.2170 - val_acc: 0.9134\n",
      "Epoch 75/100\n",
      "129/129 [==============================] - 71s 549ms/step - loss: 0.3461 - acc: 0.8939 - val_loss: 0.2116 - val_acc: 0.9100\n",
      "Epoch 76/100\n",
      "129/129 [==============================] - 74s 570ms/step - loss: 0.3631 - acc: 0.8982 - val_loss: 0.2943 - val_acc: 0.8941\n",
      "Epoch 77/100\n",
      "129/129 [==============================] - 73s 559ms/step - loss: 0.3306 - acc: 0.8987 - val_loss: 0.2960 - val_acc: 0.8827\n",
      "Epoch 78/100\n",
      "129/129 [==============================] - 74s 570ms/step - loss: 0.3624 - acc: 0.8873 - val_loss: 0.2254 - val_acc: 0.9009\n",
      "Epoch 79/100\n",
      "129/129 [==============================] - 74s 569ms/step - loss: 0.3563 - acc: 0.8956 - val_loss: 0.2627 - val_acc: 0.8975\n",
      "Epoch 80/100\n",
      "129/129 [==============================] - 73s 559ms/step - loss: 0.3674 - acc: 0.8897 - val_loss: 0.2514 - val_acc: 0.8986\n",
      "Epoch 81/100\n",
      "129/129 [==============================] - 72s 556ms/step - loss: 0.3443 - acc: 0.8924 - val_loss: 0.3268 - val_acc: 0.8815\n",
      "Epoch 82/100\n",
      "129/129 [==============================] - 72s 554ms/step - loss: 0.3544 - acc: 0.8907 - val_loss: 0.2137 - val_acc: 0.9146\n",
      "Epoch 83/100\n",
      "129/129 [==============================] - 72s 558ms/step - loss: 0.3338 - acc: 0.9031 - val_loss: 0.2128 - val_acc: 0.9180\n",
      "Epoch 84/100\n",
      "129/129 [==============================] - 74s 567ms/step - loss: 0.3606 - acc: 0.9002 - val_loss: 0.1807 - val_acc: 0.9385\n",
      "Epoch 85/100\n",
      "129/129 [==============================] - 72s 558ms/step - loss: 0.3444 - acc: 0.9017 - val_loss: 0.1916 - val_acc: 0.9203\n",
      "Epoch 86/100\n",
      "129/129 [==============================] - 72s 554ms/step - loss: 0.3547 - acc: 0.8931 - val_loss: 0.2191 - val_acc: 0.9100\n",
      "Epoch 87/100\n",
      "129/129 [==============================] - 72s 558ms/step - loss: 0.3311 - acc: 0.8980 - val_loss: 0.2809 - val_acc: 0.8952\n",
      "Epoch 88/100\n",
      "129/129 [==============================] - 73s 566ms/step - loss: 0.3356 - acc: 0.9004 - val_loss: 0.2703 - val_acc: 0.8998\n",
      "Epoch 89/100\n",
      "129/129 [==============================] - 74s 568ms/step - loss: 0.3275 - acc: 0.9014 - val_loss: 0.2185 - val_acc: 0.9169\n",
      "Epoch 90/100\n",
      "129/129 [==============================] - 71s 548ms/step - loss: 0.3230 - acc: 0.9068 - val_loss: 0.2312 - val_acc: 0.8998\n",
      "Epoch 91/100\n",
      "129/129 [==============================] - 72s 555ms/step - loss: 0.3109 - acc: 0.9065 - val_loss: 0.2655 - val_acc: 0.9066\n",
      "Epoch 92/100\n",
      "129/129 [==============================] - 73s 560ms/step - loss: 0.3345 - acc: 0.9043 - val_loss: 0.2396 - val_acc: 0.9191\n",
      "Epoch 93/100\n",
      "129/129 [==============================] - 74s 567ms/step - loss: 0.3133 - acc: 0.9112 - val_loss: 0.2104 - val_acc: 0.9180\n",
      "Epoch 94/100\n",
      "129/129 [==============================] - 72s 551ms/step - loss: 0.3267 - acc: 0.9034 - val_loss: 0.2218 - val_acc: 0.9100\n",
      "Epoch 95/100\n",
      "129/129 [==============================] - 72s 557ms/step - loss: 0.3282 - acc: 0.9009 - val_loss: 0.3348 - val_acc: 0.8759\n",
      "Epoch 96/100\n",
      "129/129 [==============================] - 75s 579ms/step - loss: 0.3366 - acc: 0.8975 - val_loss: 0.3069 - val_acc: 0.8724\n",
      "Epoch 97/100\n",
      "129/129 [==============================] - 75s 581ms/step - loss: 0.2998 - acc: 0.9114 - val_loss: 0.2344 - val_acc: 0.9112\n",
      "Epoch 98/100\n",
      "129/129 [==============================] - 74s 567ms/step - loss: 0.3191 - acc: 0.9056 - val_loss: 0.2201 - val_acc: 0.9282\n",
      "Epoch 99/100\n",
      "129/129 [==============================] - 72s 556ms/step - loss: 0.3261 - acc: 0.9026 - val_loss: 0.1977 - val_acc: 0.9180\n",
      "Epoch 100/100\n",
      "129/129 [==============================] - 78s 601ms/step - loss: 0.3294 - acc: 0.9036 - val_loss: 0.1673 - val_acc: 0.9362\n"
     ]
    }
   ],
   "source": [
    "epochs = 100\n",
    "\n",
    "steps_per_epoch2 = np.ceil(train_generator2.samples / train_generator2.batch_size)\n",
    "validation_steps2 = np.ceil(val_generator2.samples / val_generator2.batch_size)\n",
    "\n",
    "history = model2.fit(\n",
    "    train_generator2,\n",
    "    steps_per_epoch=int(steps_per_epoch2),\n",
    "    epochs=epochs,\n",
    "    validation_data=val_generator2,\n",
    "    validation_steps=int(validation_steps2),\n",
    "    class_weight=class_weights)\n",
    "\n"
   ]
  },
  {
   "cell_type": "code",
   "execution_count": null,
   "id": "93ee8d87",
   "metadata": {},
   "outputs": [],
   "source": []
  },
  {
   "cell_type": "code",
   "execution_count": 19,
   "id": "57302259",
   "metadata": {},
   "outputs": [
    {
     "name": "stdout",
     "output_type": "stream",
     "text": [
      "129/129 [==============================] - 60s 460ms/step - loss: 0.1914 - acc: 0.9251\n",
      "28/28 [==============================] - 13s 454ms/step - loss: 0.1984 - acc: 0.9362\n",
      "Training set performance: [0.19136229157447815, 0.9250854253768921]\n",
      "Validation set performance: [0.19843034446239471, 0.9362187385559082]\n"
     ]
    }
   ],
   "source": [
    "results_train = model2.evaluate(train_generator2)\n",
    "results_test = model2.evaluate(val_generator2)\n",
    "print('Training set performance:', results_train)\n",
    "print('Validation set performance:', results_test)"
   ]
  },
  {
   "cell_type": "code",
   "execution_count": 20,
   "id": "64bb6c38",
   "metadata": {},
   "outputs": [
    {
     "name": "stdout",
     "output_type": "stream",
     "text": [
      "129/129 [==============================] - 59s 449ms/step - loss: 0.1982 - acc: 0.9192\n",
      "28/28 [==============================] - 13s 460ms/step - loss: 0.1859 - acc: 0.9328\n",
      "Training set performance: [0.19820529222488403, 0.9192289113998413]\n",
      "Validation set performance: [0.18585559725761414, 0.9328018426895142]\n"
     ]
    }
   ],
   "source": [
    "results_train = model2.evaluate(train_generator2)\n",
    "results_test = model2.evaluate(val_generator2)\n",
    "print('Training set performance:', results_train)\n",
    "print('Validation set performance:', results_test)"
   ]
  },
  {
   "cell_type": "markdown",
   "id": "183d8c31",
   "metadata": {},
   "source": [
    "## worse than previous models"
   ]
  },
  {
   "cell_type": "code",
   "execution_count": null,
   "id": "cb3c4463",
   "metadata": {},
   "outputs": [],
   "source": []
  }
 ],
 "metadata": {
  "kernelspec": {
   "display_name": "tooters",
   "language": "python",
   "name": "tooters"
  },
  "language_info": {
   "codemirror_mode": {
    "name": "ipython",
    "version": 3
   },
   "file_extension": ".py",
   "mimetype": "text/x-python",
   "name": "python",
   "nbconvert_exporter": "python",
   "pygments_lexer": "ipython3",
   "version": "3.8.13"
  }
 },
 "nbformat": 4,
 "nbformat_minor": 5
}
