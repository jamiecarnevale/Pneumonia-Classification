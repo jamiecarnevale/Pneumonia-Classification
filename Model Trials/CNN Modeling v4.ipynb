{
 "cells": [
  {
   "cell_type": "code",
   "execution_count": 9,
   "id": "93c0c7b9",
   "metadata": {},
   "outputs": [],
   "source": [
    "from PIL import Image, ImageOps\n",
    "import numpy as np\n",
    "import pandas as pd\n",
    "from matplotlib import pyplot as plt\n",
    "import seaborn as sns\n",
    "import os, shutil\n",
    "import time\n",
    "import scipy\n",
    "from scipy import ndimage\n",
    "from tensorflow.keras.preprocessing.image import ImageDataGenerator, array_to_img, img_to_array, load_img\n",
    "import cv2\n",
    "from keras import models\n",
    "from keras import layers\n",
    "from sklearn.utils import class_weight"
   ]
  },
  {
   "cell_type": "markdown",
   "id": "cf7dd375",
   "metadata": {},
   "source": [
    "# Now lets try and to make the results better"
   ]
  },
  {
   "cell_type": "code",
   "execution_count": 10,
   "id": "70225cd1",
   "metadata": {},
   "outputs": [],
   "source": [
    "# Create a data generator\n",
    "datagen2 = ImageDataGenerator(\n",
    "    rescale=1./255, # normalize pixel values\n",
    "    rotation_range=20, # randomly rotate images in the range\n",
    "    zoom_range=0.2, # randomly zoom image \n",
    "    width_shift_range=0.2, # randomly shift images horizontally\n",
    "    height_shift_range=0.2, # randomly shift images vertically \n",
    "    horizontal_flip=True) # randomly flip images"
   ]
  },
  {
   "cell_type": "code",
   "execution_count": 11,
   "id": "57a15b4f",
   "metadata": {
    "scrolled": true
   },
   "outputs": [
    {
     "name": "stdout",
     "output_type": "stream",
     "text": [
      "Found 4098 images belonging to 2 classes.\n",
      "Found 879 images belonging to 2 classes.\n",
      "Found 879 images belonging to 2 classes.\n"
     ]
    }
   ],
   "source": [
    "# Use flow_from_directory to read images from folders\n",
    "train_generator2 = datagen2.flow_from_directory(\n",
    "        'CellData/chest_xray/train', # point to the parent directory\n",
    "        target_size=(299, 299), # resize images to 299x299\n",
    "        batch_size=32,\n",
    "        class_mode='binary') # binary for two classes\n",
    "\n",
    "# Similarly create validation and test generators\n",
    "val_generator2 = datagen2.flow_from_directory(\n",
    "        'CellData/chest_xray/val',\n",
    "        target_size=(299, 299),\n",
    "        batch_size=32,\n",
    "        class_mode='binary')\n",
    "\n",
    "test_generator2 = datagen2.flow_from_directory(\n",
    "        'CellData/chest_xray/test',\n",
    "        target_size=(299, 299),\n",
    "        batch_size=32,\n",
    "        class_mode='binary')\n"
   ]
  },
  {
   "cell_type": "code",
   "execution_count": 12,
   "id": "3019617e",
   "metadata": {},
   "outputs": [],
   "source": [
    "model2 = models.Sequential()\n",
    "model2.add(layers.Conv2D(32, (5, 5), activation='relu',\n",
    "                         input_shape=(299 , 299,  3)))\n",
    "model2.add(layers.MaxPooling2D((2, 2)))\n",
    "\n",
    "model2.add(layers.Conv2D(32, (4, 4), activation='relu'))\n",
    "model2.add(layers.MaxPooling2D((2, 2)))\n",
    "\n",
    "model2.add(layers.Conv2D(64, (3, 3), activation='relu'))\n",
    "model2.add(layers.MaxPooling2D((2, 2)))\n",
    "\n",
    "model2.add(layers.Conv2D(64, (3, 3), activation='relu'))\n",
    "model2.add(layers.MaxPooling2D((2, 2)))\n",
    "\n",
    "model2.add(layers.Flatten())\n",
    "model2.add(layers.Dense(64, activation='relu'))\n",
    "model2.add(layers.Dense(64, activation='relu')) # added another dense layer\n",
    "model2.add(layers.Dense(1, activation='sigmoid'))\n",
    "\n",
    "\n",
    "model2.compile(loss='binary_crossentropy',\n",
    "              optimizer=\"adam\",\n",
    "              metrics=['acc'])"
   ]
  },
  {
   "cell_type": "code",
   "execution_count": 13,
   "id": "6c2c7fa4",
   "metadata": {},
   "outputs": [
    {
     "name": "stdout",
     "output_type": "stream",
     "text": [
      "Counter({1: 2991, 0: 1107})\n",
      "2991.0\n",
      "{0: 2.7018970189701896, 1: 1.0}\n"
     ]
    }
   ],
   "source": [
    "from collections import Counter\n",
    "import numpy as np\n",
    "\n",
    "# Get class distribution\n",
    "counter = Counter(train_generator2.classes)                          \n",
    "max_val = float(max(counter.values()))       \n",
    "class_weights = {class_id : max_val/num_images for class_id, num_images in counter.items()}                     \n",
    "\n",
    "print(counter)\n",
    "print(max_val)\n",
    "print(class_weights)"
   ]
  },
  {
   "cell_type": "code",
   "execution_count": 14,
   "id": "f92810f6",
   "metadata": {
    "scrolled": false
   },
   "outputs": [
    {
     "name": "stdout",
     "output_type": "stream",
     "text": [
      "Epoch 1/30\n"
     ]
    },
    {
     "name": "stderr",
     "output_type": "stream",
     "text": [
      "2023-07-12 20:09:33.025420: I tensorflow/core/grappler/optimizers/custom_graph_optimizer_registry.cc:113] Plugin optimizer for device_type GPU is enabled.\n"
     ]
    },
    {
     "name": "stdout",
     "output_type": "stream",
     "text": [
      "129/129 [==============================] - ETA: 0s - loss: 0.7787 - acc: 0.7343"
     ]
    },
    {
     "name": "stderr",
     "output_type": "stream",
     "text": [
      "2023-07-12 20:10:41.255033: I tensorflow/core/grappler/optimizers/custom_graph_optimizer_registry.cc:113] Plugin optimizer for device_type GPU is enabled.\n"
     ]
    },
    {
     "name": "stdout",
     "output_type": "stream",
     "text": [
      "129/129 [==============================] - 84s 619ms/step - loss: 0.7787 - acc: 0.7343 - val_loss: 0.3848 - val_acc: 0.8578\n",
      "Epoch 2/30\n",
      "129/129 [==============================] - 79s 609ms/step - loss: 0.5548 - acc: 0.8346 - val_loss: 0.4033 - val_acc: 0.8601\n",
      "Epoch 3/30\n",
      "129/129 [==============================] - 84s 652ms/step - loss: 0.5190 - acc: 0.8453 - val_loss: 0.2747 - val_acc: 0.8828\n",
      "Epoch 4/30\n",
      "129/129 [==============================] - 84s 640ms/step - loss: 0.4594 - acc: 0.8660 - val_loss: 0.2711 - val_acc: 0.8931\n",
      "Epoch 5/30\n",
      "129/129 [==============================] - 84s 645ms/step - loss: 0.4583 - acc: 0.8646 - val_loss: 0.3153 - val_acc: 0.8783\n",
      "Epoch 6/30\n",
      "129/129 [==============================] - 87s 655ms/step - loss: 0.4365 - acc: 0.8690 - val_loss: 0.2730 - val_acc: 0.8862\n",
      "Epoch 7/30\n",
      "129/129 [==============================] - 82s 635ms/step - loss: 0.4954 - acc: 0.8555 - val_loss: 0.2527 - val_acc: 0.8942\n",
      "Epoch 8/30\n",
      "129/129 [==============================] - 86s 659ms/step - loss: 0.4605 - acc: 0.8626 - val_loss: 0.3019 - val_acc: 0.8828\n",
      "Epoch 9/30\n",
      "129/129 [==============================] - 82s 633ms/step - loss: 0.4233 - acc: 0.8799 - val_loss: 0.2799 - val_acc: 0.8965\n",
      "Epoch 10/30\n",
      "129/129 [==============================] - 81s 626ms/step - loss: 0.4296 - acc: 0.8719 - val_loss: 0.3455 - val_acc: 0.8680\n",
      "Epoch 11/30\n",
      "129/129 [==============================] - 79s 573ms/step - loss: 0.4188 - acc: 0.8724 - val_loss: 0.2256 - val_acc: 0.9135\n",
      "Epoch 12/30\n",
      "129/129 [==============================] - 79s 611ms/step - loss: 0.4707 - acc: 0.8590 - val_loss: 0.3334 - val_acc: 0.8862\n",
      "Epoch 13/30\n",
      "129/129 [==============================] - 82s 635ms/step - loss: 0.4240 - acc: 0.8795 - val_loss: 0.2791 - val_acc: 0.8885\n",
      "Epoch 14/30\n",
      "129/129 [==============================] - 82s 630ms/step - loss: 0.3851 - acc: 0.8865 - val_loss: 0.2615 - val_acc: 0.8999\n",
      "Epoch 15/30\n",
      "129/129 [==============================] - 81s 621ms/step - loss: 0.3768 - acc: 0.8882 - val_loss: 0.2227 - val_acc: 0.9078\n",
      "Epoch 16/30\n",
      "129/129 [==============================] - 79s 614ms/step - loss: 0.3555 - acc: 0.8948 - val_loss: 0.2412 - val_acc: 0.8987\n",
      "Epoch 17/30\n",
      "129/129 [==============================] - 79s 609ms/step - loss: 0.3792 - acc: 0.8851 - val_loss: 0.2358 - val_acc: 0.8931\n",
      "Epoch 18/30\n",
      "129/129 [==============================] - 79s 607ms/step - loss: 0.3803 - acc: 0.8892 - val_loss: 0.3516 - val_acc: 0.8601\n",
      "Epoch 19/30\n",
      "129/129 [==============================] - 82s 635ms/step - loss: 0.3648 - acc: 0.8873 - val_loss: 0.2067 - val_acc: 0.9226\n",
      "Epoch 20/30\n",
      "129/129 [==============================] - 80s 616ms/step - loss: 0.3534 - acc: 0.8958 - val_loss: 0.2022 - val_acc: 0.9238\n",
      "Epoch 21/30\n",
      "129/129 [==============================] - 78s 600ms/step - loss: 0.3373 - acc: 0.9046 - val_loss: 0.2523 - val_acc: 0.9056\n",
      "Epoch 22/30\n",
      "129/129 [==============================] - 80s 619ms/step - loss: 0.3175 - acc: 0.9070 - val_loss: 0.2753 - val_acc: 0.9067\n",
      "Epoch 23/30\n",
      "129/129 [==============================] - 81s 620ms/step - loss: 0.3251 - acc: 0.9048 - val_loss: 0.1861 - val_acc: 0.9352\n",
      "Epoch 24/30\n",
      "129/129 [==============================] - 79s 612ms/step - loss: 0.3460 - acc: 0.8973 - val_loss: 0.1979 - val_acc: 0.9238\n",
      "Epoch 25/30\n",
      "129/129 [==============================] - 82s 627ms/step - loss: 0.3107 - acc: 0.9109 - val_loss: 0.2144 - val_acc: 0.9113\n",
      "Epoch 26/30\n",
      "129/129 [==============================] - 79s 605ms/step - loss: 0.2915 - acc: 0.9126 - val_loss: 0.2627 - val_acc: 0.9010\n",
      "Epoch 27/30\n",
      "129/129 [==============================] - 78s 604ms/step - loss: 0.3105 - acc: 0.9058 - val_loss: 0.2288 - val_acc: 0.9170\n",
      "Epoch 28/30\n",
      "129/129 [==============================] - 81s 625ms/step - loss: 0.3083 - acc: 0.9070 - val_loss: 0.2925 - val_acc: 0.8908\n",
      "Epoch 29/30\n",
      "129/129 [==============================] - 79s 600ms/step - loss: 0.3120 - acc: 0.9061 - val_loss: 0.1985 - val_acc: 0.9238\n",
      "Epoch 30/30\n",
      "129/129 [==============================] - 78s 603ms/step - loss: 0.3045 - acc: 0.9136 - val_loss: 0.2107 - val_acc: 0.9147\n"
     ]
    }
   ],
   "source": [
    "epochs = 30\n",
    "\n",
    "steps_per_epoch2 = np.ceil(train_generator2.samples / train_generator2.batch_size)\n",
    "validation_steps2 = np.ceil(val_generator2.samples / val_generator2.batch_size)\n",
    "\n",
    "history = model2.fit(\n",
    "    train_generator2,\n",
    "    steps_per_epoch=int(steps_per_epoch2),\n",
    "    epochs=epochs,\n",
    "    validation_data=val_generator2,\n",
    "    validation_steps=int(validation_steps2),\n",
    "    class_weight=class_weights)\n",
    "\n"
   ]
  },
  {
   "cell_type": "code",
   "execution_count": null,
   "id": "7c277cdc",
   "metadata": {},
   "outputs": [],
   "source": []
  },
  {
   "cell_type": "code",
   "execution_count": 15,
   "id": "57302259",
   "metadata": {},
   "outputs": [
    {
     "name": "stdout",
     "output_type": "stream",
     "text": [
      "129/129 [==============================] - 63s 477ms/step - loss: 0.2112 - acc: 0.9170\n",
      "28/28 [==============================] - 14s 508ms/step - loss: 0.2125 - acc: 0.9113\n",
      "Training set performance: [0.21117207407951355, 0.9170327186584473]\n",
      "Validation set performance: [0.2125244140625, 0.9112628698348999]\n"
     ]
    }
   ],
   "source": [
    "results_train = model2.evaluate(train_generator2)\n",
    "results_test = model2.evaluate(val_generator2)\n",
    "print('Training set performance:', results_train)\n",
    "print('Validation set performance:', results_test)"
   ]
  },
  {
   "cell_type": "markdown",
   "id": "ffd77867",
   "metadata": {},
   "source": [
    "## worse than last few models"
   ]
  },
  {
   "cell_type": "code",
   "execution_count": null,
   "id": "eba7f7da",
   "metadata": {},
   "outputs": [],
   "source": []
  }
 ],
 "metadata": {
  "kernelspec": {
   "display_name": "tooters",
   "language": "python",
   "name": "tooters"
  },
  "language_info": {
   "codemirror_mode": {
    "name": "ipython",
    "version": 3
   },
   "file_extension": ".py",
   "mimetype": "text/x-python",
   "name": "python",
   "nbconvert_exporter": "python",
   "pygments_lexer": "ipython3",
   "version": "3.8.13"
  }
 },
 "nbformat": 4,
 "nbformat_minor": 5
}
