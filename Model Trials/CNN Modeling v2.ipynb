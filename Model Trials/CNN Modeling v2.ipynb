{
 "cells": [
  {
   "cell_type": "code",
   "execution_count": 1,
   "id": "93c0c7b9",
   "metadata": {},
   "outputs": [],
   "source": [
    "from PIL import Image, ImageOps\n",
    "import numpy as np\n",
    "import pandas as pd\n",
    "from matplotlib import pyplot as plt\n",
    "import seaborn as sns\n",
    "import os, shutil\n",
    "import time\n",
    "import scipy\n",
    "from scipy import ndimage\n",
    "from tensorflow.keras.preprocessing.image import ImageDataGenerator, array_to_img, img_to_array, load_img\n",
    "import cv2\n",
    "from keras import models\n",
    "from keras import layers\n",
    "from sklearn.utils import class_weight"
   ]
  },
  {
   "cell_type": "markdown",
   "id": "cf7dd375",
   "metadata": {},
   "source": [
    "# Now lets try and to make the results better"
   ]
  },
  {
   "cell_type": "code",
   "execution_count": 2,
   "id": "70225cd1",
   "metadata": {},
   "outputs": [],
   "source": [
    "# Create a data generator\n",
    "datagen2 = ImageDataGenerator(\n",
    "    rescale=1./255, # normalize pixel values\n",
    "    rotation_range=20, # randomly rotate images in the range\n",
    "    zoom_range=0.2, # randomly zoom image \n",
    "    width_shift_range=0.2, # randomly shift images horizontally\n",
    "    height_shift_range=0.2, # randomly shift images vertically \n",
    "    horizontal_flip=True) # randomly flip images"
   ]
  },
  {
   "cell_type": "code",
   "execution_count": 3,
   "id": "57a15b4f",
   "metadata": {
    "scrolled": true
   },
   "outputs": [
    {
     "name": "stdout",
     "output_type": "stream",
     "text": [
      "Found 4098 images belonging to 2 classes.\n",
      "Found 879 images belonging to 2 classes.\n",
      "Found 879 images belonging to 2 classes.\n"
     ]
    }
   ],
   "source": [
    "# Use flow_from_directory to read images from folders\n",
    "train_generator2 = datagen2.flow_from_directory(\n",
    "        'CellData/chest_xray/train', # point to the parent directory\n",
    "        target_size=(299, 299), # resize images to 299x299\n",
    "        batch_size=32,\n",
    "        class_mode='binary') # binary for two classes\n",
    "\n",
    "# Similarly create validation and test generators\n",
    "val_generator2 = datagen2.flow_from_directory(\n",
    "        'CellData/chest_xray/val',\n",
    "        target_size=(299, 299),\n",
    "        batch_size=32,\n",
    "        class_mode='binary')\n",
    "\n",
    "test_generator2 = datagen2.flow_from_directory(\n",
    "        'CellData/chest_xray/test',\n",
    "        target_size=(299, 299),\n",
    "        batch_size=32,\n",
    "        class_mode='binary')\n"
   ]
  },
  {
   "cell_type": "code",
   "execution_count": 4,
   "id": "3019617e",
   "metadata": {},
   "outputs": [
    {
     "name": "stdout",
     "output_type": "stream",
     "text": [
      "Metal device set to: Apple M2 Pro\n"
     ]
    },
    {
     "name": "stderr",
     "output_type": "stream",
     "text": [
      "2023-07-12 15:30:06.653852: I tensorflow/core/common_runtime/pluggable_device/pluggable_device_factory.cc:305] Could not identify NUMA node of platform GPU ID 0, defaulting to 0. Your kernel may not have been built with NUMA support.\n",
      "2023-07-12 15:30:06.654011: I tensorflow/core/common_runtime/pluggable_device/pluggable_device_factory.cc:271] Created TensorFlow device (/job:localhost/replica:0/task:0/device:GPU:0 with 0 MB memory) -> physical PluggableDevice (device: 0, name: METAL, pci bus id: <undefined>)\n"
     ]
    }
   ],
   "source": [
    "model2 = models.Sequential()\n",
    "model2.add(layers.Conv2D(32, (5, 5), activation='relu',\n",
    "                        input_shape=(299 , 299,  3)))\n",
    "model2.add(layers.MaxPooling2D((2, 2)))\n",
    "\n",
    "model2.add(layers.Conv2D(32, (4, 4), activation='relu'))\n",
    "model2.add(layers.MaxPooling2D((2, 2)))\n",
    "\n",
    "model2.add(layers.Conv2D(64, (3, 3), activation='relu'))\n",
    "model2.add(layers.MaxPooling2D((2, 2)))\n",
    "\n",
    "model2.add(layers.Flatten())\n",
    "model2.add(layers.Dense(64, activation='relu'))\n",
    "model2.add(layers.Dense(1, activation='sigmoid'))\n",
    "\n",
    "model2.compile(loss='binary_crossentropy',\n",
    "              optimizer=\"adam\",\n",
    "              metrics=['acc'])"
   ]
  },
  {
   "cell_type": "code",
   "execution_count": 6,
   "id": "f92810f6",
   "metadata": {},
   "outputs": [
    {
     "name": "stdout",
     "output_type": "stream",
     "text": [
      "Epoch 1/30\n"
     ]
    },
    {
     "name": "stderr",
     "output_type": "stream",
     "text": [
      "2023-07-12 15:30:21.018637: W tensorflow/core/platform/profile_utils/cpu_utils.cc:128] Failed to get CPU frequency: 0 Hz\n",
      "2023-07-12 15:30:21.262542: I tensorflow/core/grappler/optimizers/custom_graph_optimizer_registry.cc:113] Plugin optimizer for device_type GPU is enabled.\n"
     ]
    },
    {
     "name": "stdout",
     "output_type": "stream",
     "text": [
      "129/129 [==============================] - ETA: 0s - loss: 0.4339 - acc: 0.7897"
     ]
    },
    {
     "name": "stderr",
     "output_type": "stream",
     "text": [
      "2023-07-12 15:31:33.740962: I tensorflow/core/grappler/optimizers/custom_graph_optimizer_registry.cc:113] Plugin optimizer for device_type GPU is enabled.\n"
     ]
    },
    {
     "name": "stdout",
     "output_type": "stream",
     "text": [
      "129/129 [==============================] - 87s 631ms/step - loss: 0.4339 - acc: 0.7897 - val_loss: 0.4779 - val_acc: 0.7645\n",
      "Epoch 2/30\n",
      "129/129 [==============================] - 82s 634ms/step - loss: 0.3595 - acc: 0.8477 - val_loss: 0.3181 - val_acc: 0.8749\n",
      "Epoch 3/30\n",
      "129/129 [==============================] - 86s 643ms/step - loss: 0.3212 - acc: 0.8580 - val_loss: 0.2497 - val_acc: 0.8931\n",
      "Epoch 4/30\n",
      "129/129 [==============================] - 76s 586ms/step - loss: 0.3181 - acc: 0.8633 - val_loss: 0.2943 - val_acc: 0.8771\n",
      "Epoch 5/30\n",
      "129/129 [==============================] - 73s 564ms/step - loss: 0.2769 - acc: 0.8821 - val_loss: 0.2885 - val_acc: 0.8680\n",
      "Epoch 6/30\n",
      "129/129 [==============================] - 73s 561ms/step - loss: 0.2849 - acc: 0.8751 - val_loss: 0.2168 - val_acc: 0.9010\n",
      "Epoch 7/30\n",
      "129/129 [==============================] - 73s 566ms/step - loss: 0.2746 - acc: 0.8816 - val_loss: 0.2538 - val_acc: 0.8851\n",
      "Epoch 8/30\n",
      "129/129 [==============================] - 72s 554ms/step - loss: 0.2515 - acc: 0.8965 - val_loss: 0.1996 - val_acc: 0.9124\n",
      "Epoch 9/30\n",
      "129/129 [==============================] - 72s 558ms/step - loss: 0.2295 - acc: 0.9041 - val_loss: 0.2239 - val_acc: 0.9170\n",
      "Epoch 10/30\n",
      "129/129 [==============================] - 72s 557ms/step - loss: 0.2394 - acc: 0.9029 - val_loss: 0.2164 - val_acc: 0.9090\n",
      "Epoch 11/30\n",
      "129/129 [==============================] - 72s 557ms/step - loss: 0.2255 - acc: 0.9090 - val_loss: 0.1949 - val_acc: 0.9283\n",
      "Epoch 12/30\n",
      "129/129 [==============================] - 72s 558ms/step - loss: 0.2268 - acc: 0.9102 - val_loss: 0.1797 - val_acc: 0.9317\n",
      "Epoch 13/30\n",
      "129/129 [==============================] - 72s 557ms/step - loss: 0.2192 - acc: 0.9117 - val_loss: 0.2115 - val_acc: 0.9170\n",
      "Epoch 14/30\n",
      "129/129 [==============================] - 72s 560ms/step - loss: 0.2118 - acc: 0.9178 - val_loss: 0.2062 - val_acc: 0.9181\n",
      "Epoch 15/30\n",
      "129/129 [==============================] - 72s 558ms/step - loss: 0.2066 - acc: 0.9195 - val_loss: 0.1839 - val_acc: 0.9238\n",
      "Epoch 16/30\n",
      "129/129 [==============================] - 72s 555ms/step - loss: 0.2049 - acc: 0.9168 - val_loss: 0.1907 - val_acc: 0.9181\n",
      "Epoch 17/30\n",
      "129/129 [==============================] - 73s 568ms/step - loss: 0.2048 - acc: 0.9185 - val_loss: 0.1860 - val_acc: 0.9238\n",
      "Epoch 18/30\n",
      "129/129 [==============================] - 72s 557ms/step - loss: 0.2142 - acc: 0.9148 - val_loss: 0.1767 - val_acc: 0.9249\n",
      "Epoch 19/30\n",
      "129/129 [==============================] - 72s 553ms/step - loss: 0.1938 - acc: 0.9202 - val_loss: 0.1713 - val_acc: 0.9340\n",
      "Epoch 20/30\n",
      "129/129 [==============================] - 72s 556ms/step - loss: 0.1871 - acc: 0.9256 - val_loss: 0.1833 - val_acc: 0.9238\n",
      "Epoch 21/30\n",
      "129/129 [==============================] - 75s 583ms/step - loss: 0.1803 - acc: 0.9258 - val_loss: 0.1839 - val_acc: 0.9170\n",
      "Epoch 22/30\n",
      "129/129 [==============================] - 73s 564ms/step - loss: 0.2027 - acc: 0.9192 - val_loss: 0.1638 - val_acc: 0.9340\n",
      "Epoch 23/30\n",
      "129/129 [==============================] - 72s 555ms/step - loss: 0.1826 - acc: 0.9263 - val_loss: 0.1708 - val_acc: 0.9454\n",
      "Epoch 24/30\n",
      "129/129 [==============================] - 72s 558ms/step - loss: 0.1903 - acc: 0.9219 - val_loss: 0.2048 - val_acc: 0.9215\n",
      "Epoch 25/30\n",
      "129/129 [==============================] - 73s 564ms/step - loss: 0.1658 - acc: 0.9356 - val_loss: 0.1719 - val_acc: 0.9340\n",
      "Epoch 26/30\n",
      "129/129 [==============================] - 73s 564ms/step - loss: 0.1915 - acc: 0.9197 - val_loss: 0.1634 - val_acc: 0.9374\n",
      "Epoch 27/30\n",
      "129/129 [==============================] - 73s 567ms/step - loss: 0.1681 - acc: 0.9346 - val_loss: 0.1762 - val_acc: 0.9306\n",
      "Epoch 28/30\n",
      "129/129 [==============================] - 72s 554ms/step - loss: 0.1807 - acc: 0.9224 - val_loss: 0.1453 - val_acc: 0.9374\n",
      "Epoch 29/30\n",
      "129/129 [==============================] - 71s 550ms/step - loss: 0.1642 - acc: 0.9302 - val_loss: 0.1683 - val_acc: 0.9408\n",
      "Epoch 30/30\n",
      "129/129 [==============================] - 71s 553ms/step - loss: 0.1586 - acc: 0.9383 - val_loss: 0.1932 - val_acc: 0.9238\n"
     ]
    }
   ],
   "source": [
    "epochs = 30\n",
    "\n",
    "steps_per_epoch2 = np.ceil(train_generator2.samples / train_generator2.batch_size)\n",
    "validation_steps2 = np.ceil(val_generator2.samples / val_generator2.batch_size)\n",
    "\n",
    "history = model2.fit(\n",
    "    train_generator2,\n",
    "    steps_per_epoch=int(steps_per_epoch2),\n",
    "    epochs=epochs,\n",
    "    validation_data=val_generator2,\n",
    "    validation_steps=int(validation_steps2))\n",
    "\n"
   ]
  },
  {
   "cell_type": "code",
   "execution_count": 9,
   "id": "ffc26790",
   "metadata": {},
   "outputs": [
    {
     "name": "stdout",
     "output_type": "stream",
     "text": [
      "129/129 [==============================] - 59s 454ms/step - loss: 0.1818 - acc: 0.9295\n",
      "28/28 [==============================] - 13s 447ms/step - loss: 0.1784 - acc: 0.9306\n",
      "Training set performance: [0.18181194365024567, 0.9294778108596802]\n",
      "Validation set performance: [0.17840376496315002, 0.93060302734375]\n"
     ]
    }
   ],
   "source": [
    "results_train = model2.evaluate(train_generator2)\n",
    "results_test = model2.evaluate(val_generator2)\n",
    "print('Training set performance:', results_train)\n",
    "print('Validation set performance:', results_test)\n"
   ]
  },
  {
   "cell_type": "markdown",
   "id": "0a0baea4",
   "metadata": {},
   "source": [
    "## 93 percent is not bad"
   ]
  },
  {
   "cell_type": "code",
   "execution_count": null,
   "id": "04c35be3",
   "metadata": {},
   "outputs": [],
   "source": []
  }
 ],
 "metadata": {
  "kernelspec": {
   "display_name": "tooters",
   "language": "python",
   "name": "tooters"
  },
  "language_info": {
   "codemirror_mode": {
    "name": "ipython",
    "version": 3
   },
   "file_extension": ".py",
   "mimetype": "text/x-python",
   "name": "python",
   "nbconvert_exporter": "python",
   "pygments_lexer": "ipython3",
   "version": "3.8.13"
  }
 },
 "nbformat": 4,
 "nbformat_minor": 5
}
