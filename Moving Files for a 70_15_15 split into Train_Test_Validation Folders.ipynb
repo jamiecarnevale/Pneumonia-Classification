{
 "cells": [
  {
   "cell_type": "code",
   "execution_count": 23,
   "metadata": {},
   "outputs": [],
   "source": [
    "import os\n",
    "from sklearn.model_selection import train_test_split\n",
    "import shutil"
   ]
  },
  {
   "cell_type": "code",
   "execution_count": 53,
   "metadata": {},
   "outputs": [
    {
     "name": "stdout",
     "output_type": "stream",
     "text": [
      "There are 1107 images in CellData/chest_xray/train/NORMAL\n",
      "There are 238 images in CellData/chest_xray/test/NORMAL\n",
      "There are 238 images in CellData/chest_xray/val/NORMAL\n",
      "There are 2991 images in CellData/chest_xray/train/PNEUMONIA\n",
      "There are 641 images in CellData/chest_xray/test/PNEUMONIA\n",
      "There are 641 images in CellData/chest_xray/val/PNEUMONIA\n"
     ]
    }
   ],
   "source": [
    "folders = [\n",
    "    (\"CellData/chest_xray/train/NORMAL\", \"CellData/chest_xray/test/NORMAL\", \"CellData/chest_xray/val/NORMAL\"),\n",
    "    (\"CellData/chest_xray/train/PNEUMONIA\", \"CellData/chest_xray/test/PNEUMONIA\", \"CellData/chest_xray/val/PNEUMONIA\")\n",
    "]\n",
    "\n",
    "for train_folder, test_folder, val_folder in folders:\n",
    "    train_files = os.listdir(train_folder)\n",
    "    test_files = os.listdir(test_folder)\n",
    "    val_files = os.listdir(val_folder)\n",
    "\n",
    "    all_files = train_files + test_files + val_files \n",
    "\n",
    "    # split the files\n",
    "    train_files, val_test_files = train_test_split(all_files, test_size=0.30, random_state=42)\n",
    "    val_files, test_files = train_test_split(val_test_files, test_size=0.50, random_state=42)\n",
    "\n",
    "    # function to move the files\n",
    "    def move_files(files, old_folders, new_folder):\n",
    "        for file in files:\n",
    "            for old_folder in old_folders:\n",
    "                old_file_path = os.path.join(old_folder, file)\n",
    "                if os.path.exists(old_file_path):\n",
    "                    new_file_path = os.path.join(new_folder, file)\n",
    "                    shutil.move(old_file_path, new_file_path)\n",
    "\n",
    "    # move files to the appropriate folders\n",
    "    move_files(train_files, [train_folder, test_folder, val_folder], train_folder)\n",
    "    move_files(val_files, [train_folder, test_folder, val_folder], val_folder)\n",
    "    move_files(test_files, [train_folder, test_folder, val_folder], test_folder)\n",
    "\n",
    "# print the number of images in each folder\n",
    "for folder in folders:\n",
    "    train_folder, test_folder, val_folder = folder\n",
    "    for subfolder in [train_folder, test_folder, val_folder]:\n",
    "        img_count = [file for file in os.listdir(subfolder) if file.endswith('.jpeg')]\n",
    "        print('There are', len(img_count), 'images in', subfolder)\n",
    "\n",
    "# so basically what this code does is this:\n",
    "# creates two tuples for files corresponding to the xrays of uninfected lungs and the xrays for those with pneumonia\n",
    "# begins a for loop for these each of these tuples which starts by creating combining all the files within each tuple\n",
    "# splits the files into a 70/15/15 split via first a 30 percent split and then a 50 percent split\n",
    "# creates a function to move the newly split files from where they are to how they are now split\n",
    "# apply this function across the train/test/validation files and folders\n",
    "# this is where the for loop ends, so it does this for the NORMAL group and the PNEUMONIA group next\n",
    "# counts to make sure the files were split correctly through the folders\n",
    "# this code is set up so that it can be run multiple times without affecting the outcome or giving an error\n",
    "# note that the CellData folder was copied before this code was run"
   ]
  },
  {
   "cell_type": "code",
   "execution_count": null,
   "metadata": {},
   "outputs": [],
   "source": []
  }
 ],
 "metadata": {
  "kernelspec": {
   "display_name": "tooters",
   "language": "python",
   "name": "tooters"
  },
  "language_info": {
   "codemirror_mode": {
    "name": "ipython",
    "version": 3
   },
   "file_extension": ".py",
   "mimetype": "text/x-python",
   "name": "python",
   "nbconvert_exporter": "python",
   "pygments_lexer": "ipython3",
   "version": "3.8.13"
  }
 },
 "nbformat": 4,
 "nbformat_minor": 4
}
